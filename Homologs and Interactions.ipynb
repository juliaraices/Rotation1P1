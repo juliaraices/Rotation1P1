{
 "cells": [
  {
   "cell_type": "code",
   "execution_count": 2,
   "metadata": {
    "collapsed": true
   },
   "outputs": [
    {
     "name": "stdout",
     "output_type": "stream",
     "text": [
      "celegans_aliases.txt\n",
      "celegans_experimental.txt\n",
      "celegans_homologs.txt\n",
      "dmel_aliases.txt\n",
      "dmel_experimental.txt\n",
      "dmel_homologs.txt\n",
      "FlyBase_Fields_download.txt\n",
      "FlyBase_Fields_download.xlsx\n",
      "genes_table.doc\n",
      "Homologs and Interactions.ipynb\n",
      "Homologs interactions.ipynb\n",
      "human_aliases.txt\n",
      "human_experimental.txt\n",
      "human_homologs.txt\n",
      "interactions.odp\n",
      "IQ.doc\n",
      "mouse_aliases.txt\n",
      "mouse_experimental.txt\n",
      "mouse_homologs.txt\n",
      "networks.odp\n",
      "Part1\n",
      "Part 1.docx\n",
      "Part2\n",
      "Part3\n",
      "protein.aliases.v10.5.txt\n",
      "protein.aliases.v10.5.txt.gz\n",
      "protein.links.full.v10.5.txt.gz\n",
      "rotation1_BV2.docx\n",
      "rotation1_BV.docx\n",
      "rotation1_BV_JR.docx\n",
      "rotation1.doc\n",
      "scerevisiae_aliases.txt\n",
      "scerevisiae_experimental.txt\n",
      "scerevisiae_homologs.txt\n",
      "spp.sh\n"
     ]
    }
   ],
   "source": [
    "; ls"
   ]
  },
  {
   "cell_type": "code",
   "execution_count": 5,
   "metadata": {
    "collapsed": true
   },
   "outputs": [
    {
     "data": {
      "text/html": [
       "<table class=\"data-frame\"><thead><tr><th></th><th>_gene</th><th>_dmel_homolog</th></tr></thead><tbody><tr><th>1</th><td>rnt-1</td><td>runt</td></tr><tr><th>2</th><td>hlh-14</td><td>scute</td></tr><tr><th>3</th><td>hlh-3</td><td>scute</td></tr><tr><th>4</th><td>eif-3.G</td><td>Sex-lethal</td></tr><tr><th>5</th><td>exc-7</td><td>Sex-lethal</td></tr><tr><th>6</th><td>eya-1</td><td>groucho</td></tr><tr><th>7</th><td>unc-37</td><td>groucho</td></tr><tr><th>8</th><td>wdr-48</td><td>groucho</td></tr><tr><th>9</th><td>wdr-5.3</td><td>groucho</td></tr><tr><th>10</th><td>hlh-2</td><td>daughterless</td></tr><tr><th>11</th><td>F52G2.3</td><td>deadpan</td></tr><tr><th>12</th><td>hlh-25</td><td>deadpan</td></tr><tr><th>13</th><td>hlh-27</td><td>deadpan</td></tr><tr><th>14</th><td>lin-22</td><td>deadpan</td></tr></tbody></table>"
      ],
      "text/plain": [
       "14×2 DataFrames.DataFrame\n",
       "│ Row │ _gene     │ _dmel_homolog  │\n",
       "├─────┼───────────┼────────────────┤\n",
       "│ 1   │ \"rnt-1\"   │ \"runt\"         │\n",
       "│ 2   │ \"hlh-14\"  │ \"scute\"        │\n",
       "│ 3   │ \"hlh-3\"   │ \"scute\"        │\n",
       "│ 4   │ \"eif-3.G\" │ \"Sex-lethal\"   │\n",
       "│ 5   │ \"exc-7\"   │ \"Sex-lethal\"   │\n",
       "│ 6   │ \"eya-1\"   │ \"groucho\"      │\n",
       "│ 7   │ \"unc-37\"  │ \"groucho\"      │\n",
       "│ 8   │ \"wdr-48\"  │ \"groucho\"      │\n",
       "│ 9   │ \"wdr-5.3\" │ \"groucho\"      │\n",
       "│ 10  │ \"hlh-2\"   │ \"daughterless\" │\n",
       "│ 11  │ \"F52G2.3\" │ \"deadpan\"      │\n",
       "│ 12  │ \"hlh-25\"  │ \"deadpan\"      │\n",
       "│ 13  │ \"hlh-27\"  │ \"deadpan\"      │\n",
       "│ 14  │ \"lin-22\"  │ \"deadpan\"      │"
      ]
     },
     "execution_count": 5,
     "metadata": {},
     "output_type": "execute_result"
    }
   ],
   "source": [
    "using DataFrames\n",
    "celegans = readtable(\"celegans_experimental.txt\", header=false, separator=' ') # open as data frame\n",
    "c_aliases = readtable(\"celegans_aliases.txt\", header=false, separator='\\t', nastrings=[\"\",\"NA\"])\n",
    "c_homologs = readtable(\"celegans_homologs.txt\", header=true, separator='\\t')"
   ]
  },
  {
   "cell_type": "code",
   "execution_count": 6,
   "metadata": {
    "collapsed": true
   },
   "outputs": [
    {
     "data": {
      "text/html": [
       "<table class=\"data-frame\"><thead><tr><th></th><th>_gene</th><th>_dmel_homolog</th></tr></thead><tbody><tr><th>1</th><td>RUNX1</td><td>runt</td></tr><tr><th>2</th><td>RUNX2</td><td>runt</td></tr><tr><th>3</th><td>RUNX3</td><td>runt</td></tr><tr><th>4</th><td>ASCL1</td><td>scute</td></tr><tr><th>5</th><td>ASCL2</td><td>scute</td></tr><tr><th>6</th><td>ASCL3</td><td>scute</td></tr><tr><th>7</th><td>ASCL4</td><td>scute</td></tr><tr><th>8</th><td>ASCL5</td><td>scute</td></tr><tr><th>9</th><td>FIGLA</td><td>scute</td></tr><tr><th>10</th><td>HAND1</td><td>scute</td></tr><tr><th>11</th><td>HAND2</td><td>scute</td></tr><tr><th>12</th><td>LYL1</td><td>scute</td></tr><tr><th>13</th><td>MESP1</td><td>scute</td></tr><tr><th>14</th><td>MESP2</td><td>scute</td></tr><tr><th>15</th><td>MSC</td><td>scute</td></tr><tr><th>16</th><td>MSGN1</td><td>scute</td></tr><tr><th>17</th><td>NHLH1</td><td>scute</td></tr><tr><th>18</th><td>NHLH2</td><td>scute</td></tr><tr><th>19</th><td>PTF1A</td><td>scute</td></tr><tr><th>20</th><td>SCX</td><td>scute</td></tr><tr><th>21</th><td>TAL1</td><td>scute</td></tr><tr><th>22</th><td>TAL2</td><td>scute</td></tr><tr><th>23</th><td>TCF15</td><td>scute</td></tr><tr><th>24</th><td>TCF21</td><td>scute</td></tr><tr><th>25</th><td>TCF23</td><td>scute</td></tr><tr><th>26</th><td>TCF24</td><td>scute</td></tr><tr><th>27</th><td>ELAVL1</td><td>Sex-lethal</td></tr><tr><th>28</th><td>ELAVL2</td><td>Sex-lethal</td></tr><tr><th>29</th><td>ELAVL3</td><td>Sex-lethal</td></tr><tr><th>30</th><td>ELAVL4</td><td>Sex-lethal</td></tr><tr><th>&vellip;</th><td>&vellip;</td><td>&vellip;</td></tr></tbody></table>"
      ],
      "text/plain": [
       "58×2 DataFrames.DataFrame\n",
       "│ Row │ _gene   │ _dmel_homolog │\n",
       "├─────┼─────────┼───────────────┤\n",
       "│ 1   │ \"RUNX1\" │ \"runt\"        │\n",
       "│ 2   │ \"RUNX2\" │ \"runt\"        │\n",
       "│ 3   │ \"RUNX3\" │ \"runt\"        │\n",
       "│ 4   │ \"ASCL1\" │ \"scute\"       │\n",
       "│ 5   │ \"ASCL2\" │ \"scute\"       │\n",
       "│ 6   │ \"ASCL3\" │ \"scute\"       │\n",
       "│ 7   │ \"ASCL4\" │ \"scute\"       │\n",
       "│ 8   │ \"ASCL5\" │ \"scute\"       │\n",
       "│ 9   │ \"FIGLA\" │ \"scute\"       │\n",
       "│ 10  │ \"HAND1\" │ \"scute\"       │\n",
       "│ 11  │ \"HAND2\" │ \"scute\"       │\n",
       "⋮\n",
       "│ 47  │ \"HES3\"  │ \"deadpan\"     │\n",
       "│ 48  │ \"HES4\"  │ \"deadpan\"     │\n",
       "│ 49  │ \"HES5\"  │ \"deadpan\"     │\n",
       "│ 50  │ \"HES6\"  │ \"deadpan\"     │\n",
       "│ 51  │ \"HES7\"  │ \"deadpan\"     │\n",
       "│ 52  │ \"HEY1\"  │ \"deadpan\"     │\n",
       "│ 53  │ \"HEY2\"  │ \"deadpan\"     │\n",
       "│ 54  │ \"HEYL\"  │ \"deadpan\"     │\n",
       "│ 55  │ \"ID1\"   │ \"emc\"         │\n",
       "│ 56  │ \"ID2\"   │ \"emc\"         │\n",
       "│ 57  │ \"ID3\"   │ \"emc\"         │\n",
       "│ 58  │ \"ID4\"   │ \"emc\"         │"
      ]
     },
     "execution_count": 6,
     "metadata": {},
     "output_type": "execute_result"
    }
   ],
   "source": [
    "human = readtable(\"human_experimental.txt\", header=false, separator=' ') # open as data frame\n",
    "h_aliases = readtable(\"human_aliases.txt\", header=false, separator='\\t', nastrings=[\"\",\"NA\"])\n",
    "h_homologs = readtable(\"human_homologs.txt\", header=true, separator='\\t')"
   ]
  },
  {
   "cell_type": "code",
   "execution_count": 7,
   "metadata": {
    "collapsed": true
   },
   "outputs": [
    {
     "data": {
      "text/html": [
       "<table class=\"data-frame\"><thead><tr><th></th><th>_gene</th><th>_dmel_homolog</th></tr></thead><tbody><tr><th>1</th><td>Runx2</td><td>runt</td></tr><tr><th>2</th><td>Runx1</td><td>runt</td></tr><tr><th>3</th><td>Runx3</td><td>runt</td></tr><tr><th>4</th><td>Ascl1</td><td>scute</td></tr><tr><th>5</th><td>Ascl2</td><td>scute</td></tr><tr><th>6</th><td>Ascl3</td><td>scute</td></tr><tr><th>7</th><td>Ascl4</td><td>scute</td></tr><tr><th>8</th><td>Ascl5</td><td>scute</td></tr><tr><th>9</th><td>Ferd3l</td><td>scute</td></tr><tr><th>10</th><td>Figla</td><td>scute</td></tr><tr><th>11</th><td>Hand1</td><td>scute</td></tr><tr><th>12</th><td>Hand2</td><td>scute</td></tr><tr><th>13</th><td>Lyl1</td><td>scute</td></tr><tr><th>14</th><td>Mesp1</td><td>scute</td></tr><tr><th>15</th><td>Mesp2</td><td>scute</td></tr><tr><th>16</th><td>Msc</td><td>scute</td></tr><tr><th>17</th><td>Msgn1</td><td>scute</td></tr><tr><th>18</th><td>Nhlh1</td><td>scute</td></tr><tr><th>19</th><td>Nhlh2</td><td>scute</td></tr><tr><th>20</th><td>Ptf1a</td><td>scute</td></tr><tr><th>21</th><td>Scx</td><td>scute</td></tr><tr><th>22</th><td>Tal1</td><td>scute</td></tr><tr><th>23</th><td>Tal2</td><td>scute</td></tr><tr><th>24</th><td>Tcf15</td><td>scute</td></tr><tr><th>25</th><td>Tcf21</td><td>scute</td></tr><tr><th>26</th><td>Tcf23</td><td>scute</td></tr><tr><th>27</th><td>Elavl1</td><td>Sex-lethal</td></tr><tr><th>28</th><td>Elavl2</td><td>Sex-lethal</td></tr><tr><th>29</th><td>Elavl3</td><td>Sex-lethal</td></tr><tr><th>30</th><td>Elavl4</td><td>Sex-lethal</td></tr><tr><th>&vellip;</th><td>&vellip;</td><td>&vellip;</td></tr></tbody></table>"
      ],
      "text/plain": [
       "58×2 DataFrames.DataFrame\n",
       "│ Row │ _gene    │ _dmel_homolog │\n",
       "├─────┼──────────┼───────────────┤\n",
       "│ 1   │ \"Runx2\"  │ \"runt\"        │\n",
       "│ 2   │ \"Runx1\"  │ \"runt\"        │\n",
       "│ 3   │ \"Runx3\"  │ \"runt\"        │\n",
       "│ 4   │ \"Ascl1\"  │ \"scute\"       │\n",
       "│ 5   │ \"Ascl2\"  │ \"scute\"       │\n",
       "│ 6   │ \"Ascl3\"  │ \"scute\"       │\n",
       "│ 7   │ \"Ascl4\"  │ \"scute\"       │\n",
       "│ 8   │ \"Ascl5\"  │ \"scute\"       │\n",
       "│ 9   │ \"Ferd3l\" │ \"scute\"       │\n",
       "│ 10  │ \"Figla\"  │ \"scute\"       │\n",
       "│ 11  │ \"Hand1\"  │ \"scute\"       │\n",
       "⋮\n",
       "│ 47  │ \"Hes2\"   │ \"deadpan\"     │\n",
       "│ 48  │ \"Hes3\"   │ \"deadpan\"     │\n",
       "│ 49  │ \"Hes5\"   │ \"deadpan\"     │\n",
       "│ 50  │ \"Hes6\"   │ \"deadpan\"     │\n",
       "│ 51  │ \"Hes7\"   │ \"deadpan\"     │\n",
       "│ 52  │ \"Hey1\"   │ \"deadpan\"     │\n",
       "│ 53  │ \"Hey2\"   │ \"deadpan\"     │\n",
       "│ 54  │ \"Heyl\"   │ \"deadpan\"     │\n",
       "│ 55  │ \"Id1\"    │ \"emc\"         │\n",
       "│ 56  │ \"Id2\"    │ \"emc\"         │\n",
       "│ 57  │ \"Id3\"    │ \"emc\"         │\n",
       "│ 58  │ \"Id4\"    │ \"emc\"         │"
      ]
     },
     "execution_count": 7,
     "metadata": {},
     "output_type": "execute_result"
    }
   ],
   "source": [
    "mouse = readtable(\"mouse_experimental.txt\", header=false, separator=' ') # open as data frame\n",
    "m_aliases = readtable(\"mouse_aliases.txt\", header=false, separator='\\t', nastrings=[\"\",\"NA\"])\n",
    "m_homologs = readtable(\"mouse_homologs.txt\", header=true, separator='\\t')"
   ]
  },
  {
   "cell_type": "code",
   "execution_count": 8,
   "metadata": {
    "collapsed": true
   },
   "outputs": [
    {
     "data": {
      "text/html": [
       "<table class=\"data-frame\"><thead><tr><th></th><th>_gene</th><th>_dmel_homolog</th></tr></thead><tbody><tr><th>1</th><td>GBP2</td><td>Sex-lethal</td></tr><tr><th>2</th><td>PAB1</td><td>Sex-lethal</td></tr><tr><th>3</th><td>TUP1</td><td>groucho</td></tr><tr><th>4</th><td>PHO4</td><td>deadpan</td></tr></tbody></table>"
      ],
      "text/plain": [
       "4×2 DataFrames.DataFrame\n",
       "│ Row │ _gene  │ _dmel_homolog │\n",
       "├─────┼────────┼───────────────┤\n",
       "│ 1   │ \"GBP2\" │ \"Sex-lethal\"  │\n",
       "│ 2   │ \"PAB1\" │ \"Sex-lethal\"  │\n",
       "│ 3   │ \"TUP1\" │ \"groucho\"     │\n",
       "│ 4   │ \"PHO4\" │ \"deadpan\"     │"
      ]
     },
     "execution_count": 8,
     "metadata": {},
     "output_type": "execute_result"
    }
   ],
   "source": [
    "yeast = readtable(\"scerevisiae_experimental.txt\", header=false, separator=' ') # open as data frame\n",
    "y_aliases = readtable(\"scerevisiae_aliases.txt\", header=false, separator='\\t', nastrings=[\"\",\"NA\"])\n",
    "y_homologs = readtable(\"scerevisiae_homologs.txt\", header=true, separator='\\t')"
   ]
  },
  {
   "cell_type": "code",
   "execution_count": 9,
   "metadata": {
    "collapsed": true
   },
   "outputs": [
    {
     "data": {
      "text/html": [
       "<table class=\"data-frame\"><thead><tr><th></th><th>_gene_symbol</th><th>_dmel_name</th></tr></thead><tbody><tr><th>1</th><td>sisA</td><td>sisterless</td></tr><tr><th>2</th><td>run</td><td>runt</td></tr><tr><th>3</th><td>upd3</td><td>unpaired3</td></tr><tr><th>4</th><td>sc</td><td>scute</td></tr><tr><th>5</th><td>Sxl</td><td>Sex-lethal</td></tr><tr><th>6</th><td>gro</td><td>groucho</td></tr><tr><th>7</th><td>da</td><td>daughterless</td></tr><tr><th>8</th><td>her</td><td>hermaphrodite</td></tr><tr><th>9</th><td>dpn</td><td>deadpan</td></tr><tr><th>10</th><td>tra</td><td>transformer</td></tr><tr><th>11</th><td>emc</td><td>extramacrochaetae</td></tr></tbody></table>"
      ],
      "text/plain": [
       "11×2 DataFrames.DataFrame\n",
       "│ Row │ _gene_symbol │ _dmel_name          │\n",
       "├─────┼──────────────┼─────────────────────┤\n",
       "│ 1   │ \"sisA\"       │ \"sisterless\"        │\n",
       "│ 2   │ \"run\"        │ \"runt\"              │\n",
       "│ 3   │ \"upd3\"       │ \"unpaired3\"         │\n",
       "│ 4   │ \"sc\"         │ \"scute\"             │\n",
       "│ 5   │ \"Sxl\"        │ \"Sex-lethal\"        │\n",
       "│ 6   │ \"gro\"        │ \"groucho\"           │\n",
       "│ 7   │ \"da\"         │ \"daughterless\"      │\n",
       "│ 8   │ \"her\"        │ \"hermaphrodite\"     │\n",
       "│ 9   │ \"dpn\"        │ \"deadpan\"           │\n",
       "│ 10  │ \"tra\"        │ \"transformer\"       │\n",
       "│ 11  │ \"emc\"        │ \"extramacrochaetae\" │"
      ]
     },
     "execution_count": 9,
     "metadata": {},
     "output_type": "execute_result"
    }
   ],
   "source": [
    "dmel = readtable(\"dmel_experimental.txt\", header=false, separator=' ') # open as data frame\n",
    "d_aliases = readtable(\"dmel_aliases.txt\", header=false, separator='\\t', nastrings=[\"\",\"NA\"])\n",
    "d_homologs = readtable(\"dmel_homologs.txt\", header=true, separator='\\t')"
   ]
  },
  {
   "cell_type": "code",
   "execution_count": 10,
   "metadata": {
    "collapsed": true
   },
   "outputs": [],
   "source": [
    "celegans_homologs=DataFrame(gene=String[], dmel_homo=String[], strig_id=String[])\n",
    "for i in 1:length(c_homologs[1])\n",
    "    for j in 1:length(c_aliases[2])\n",
    "        if c_homologs[i,1] == c_aliases[j,2]\n",
    "            push!(celegans_homologs, [c_homologs[i,1], c_homologs[i,2], c_aliases[j,1]])\n",
    "        end\n",
    "    end\n",
    "end\n",
    "\n",
    "celegans_interactions=DataFrame(gene=String[], dmel_homo=String[], strig_id=String[], interaction_id=String[], interaction_coeficient=Float64[])\n",
    "for i in 1:length(celegans_homologs[3])\n",
    "    for j in 1:length(celegans[1])\n",
    "        if celegans_homologs[i,3] == celegans[j,1]\n",
    "            push!(celegans_interactions, [celegans_homologs[i,1], celegans_homologs[i,2], celegans_homologs[i,3], celegans[j,2], celegans[j,3]])\n",
    "        end\n",
    "        if celegans_homologs[i,3] == celegans[j,2]\n",
    "            push!(celegans_interactions, [celegans_homologs[i,1], celegans_homologs[i,2], celegans_homologs[i,3], celegans[j,1], celegans[j,3]])\n",
    "        end\n",
    "    end\n",
    "end"
   ]
  },
  {
   "cell_type": "code",
   "execution_count": 12,
   "metadata": {},
   "outputs": [],
   "source": [
    "mouse_homologs=DataFrame(gene=String[], dmel_homo=String[], strig_id=String[])\n",
    "for i in 1:length(m_homologs[1])\n",
    "    for j in 1:length(m_aliases[2])\n",
    "        if m_homologs[i,1] == m_aliases[j,2]\n",
    "            push!(mouse_homologs, [m_homologs[i,1], m_homologs[i,2], m_aliases[j,1]])\n",
    "        end\n",
    "    end\n",
    "end\n",
    "\n",
    "mouse_interactions=DataFrame(gene=String[], dmel_homo=String[], strig_id=String[], interaction_id=String[], interaction_coeficient=Float64[])\n",
    "for i in 1:length(mouse_homologs[3])\n",
    "    for j in 1:length(mouse[1])\n",
    "        if mouse_homologs[i,3] == mouse[j,1]\n",
    "            push!(mouse_interactions, [mouse_homologs[i,1], mouse_homologs[i,2], mouse_homologs[i,3], mouse[j,2], mouse[j,3]])\n",
    "        end\n",
    "        if mouse_homologs[i,3] == mouse[j,2]\n",
    "            push!(mouse_interactions, [mouse_homologs[i,1], mouse_homologs[i,2], mouse_homologs[i,3], mouse[j,1], mouse[j,3]])\n",
    "        end\n",
    "    end\n",
    "end"
   ]
  },
  {
   "cell_type": "code",
   "execution_count": 13,
   "metadata": {
    "collapsed": true
   },
   "outputs": [],
   "source": [
    "yeast_homologs=DataFrame(gene=String[], dmel_homo=String[], strig_id=String[])\n",
    "for i in 1:length(y_homologs[1])\n",
    "    for j in 1:length(y_aliases[2])\n",
    "        if y_homologs[i,1] == y_aliases[j,2]\n",
    "            push!(yeast_homologs, [y_homologs[i,1], y_homologs[i,2], y_aliases[j,1]])\n",
    "        end\n",
    "    end\n",
    "end\n",
    "\n",
    "yeast_interactions=DataFrame(gene=String[], dmel_homo=String[], strig_id=String[], interaction_id=String[], interaction_coeficient=Float64[])\n",
    "for i in 1:length(yeast_homologs[3])\n",
    "    for j in 1:length(yeast[1])\n",
    "        if yeast_homologs[i,3] == yeast[j,1]\n",
    "            push!(yeast_interactions, [yeast_homologs[i,1], yeast_homologs[i,2], yeast_homologs[i,3], yeast[j,2], yeast[j,3]])\n",
    "        end\n",
    "        if yeast_homologs[i,3] == yeast[j,2]\n",
    "            push!(yeast_interactions, [yeast_homologs[i,1], yeast_homologs[i,2], yeast_homologs[i,3], yeast[j,1], yeast[j,3]])\n",
    "        end\n",
    "    end\n",
    "end"
   ]
  },
  {
   "cell_type": "code",
   "execution_count": 14,
   "metadata": {
    "collapsed": true
   },
   "outputs": [],
   "source": [
    "dmel_homologs=DataFrame(gene=String[], dmel_homo=String[], strig_id=String[])\n",
    "for i in 1:length(d_homologs[1])\n",
    "    for j in 1:length(d_aliases[2])\n",
    "        if d_homologs[i,1] == d_aliases[j,2]\n",
    "            push!(dmel_homologs, [d_homologs[i,1], d_homologs[i,2], d_aliases[j,1]])\n",
    "        end\n",
    "    end\n",
    "end\n",
    "\n",
    "dmel_interactions=DataFrame(gene=String[], dmel_homo=String[], strig_id=String[], interaction_id=String[], interaction_coeficient=Float64[])\n",
    "for i in 1:length(dmel_homologs[3])\n",
    "    for j in 1:length(dmel[1])\n",
    "        if dmel_homologs[i,3] == dmel[j,1]\n",
    "            push!(dmel_interactions, [dmel_homologs[i,1], dmel_homologs[i,2], dmel_homologs[i,3], dmel[j,2], dmel[j,3]])\n",
    "        end\n",
    "        if dmel_homologs[i,3] == dmel[j,2]\n",
    "            push!(dmel_interactions, [dmel_homologs[i,1], dmel_homologs[i,2], dmel_homologs[i,3], dmel[j,1], dmel[j,3]])\n",
    "        end\n",
    "    end\n",
    "end"
   ]
  },
  {
   "cell_type": "code",
   "execution_count": 35,
   "metadata": {},
   "outputs": [
    {
     "ename": "LoadError",
     "evalue": "\u001b[91mTypeError: non-boolean (DataArrays.NAtype) used in boolean context\u001b[39m",
     "output_type": "error",
     "traceback": [
      "\u001b[91mTypeError: non-boolean (DataArrays.NAtype) used in boolean context\u001b[39m",
      "",
      "Stacktrace:",
      " [1] \u001b[1mmacro expansion\u001b[22m\u001b[22m at \u001b[1m./In[35]:4\u001b[22m\u001b[22m [inlined]",
      " [2] \u001b[1manonymous\u001b[22m\u001b[22m at \u001b[1m./<missing>:?\u001b[22m\u001b[22m",
      " [3] \u001b[1minclude_string\u001b[22m\u001b[22m\u001b[1m(\u001b[22m\u001b[22m::String, ::String\u001b[1m)\u001b[22m\u001b[22m at \u001b[1m./loading.jl:515\u001b[22m\u001b[22m"
     ]
    }
   ],
   "source": [
    "human_homologs=DataFrame(gene=String[], dmel_homo=String[], strig_id=String[])\n",
    "for i in 1:length(h_homologs[1])\n",
    "    for j in 1:length(h_aliases[2])\n",
    "        if h_homologs[i,1] == h_aliases[j,2]\n",
    "            push!(human_homologs, [h_homologs[i,1], h_homologs[i,2], h_aliases[j,1]])\n",
    "        end\n",
    "    end\n",
    "end\n",
    "\n",
    "\n",
    "human_interactions=DataFrame(gene=String[], dmel_homo=String[], strig_id=String[], interaction_id=String[], interaction_coeficient=Float64[])\n",
    "for i in 1:length(human_homologs[3])\n",
    "    for j in 1:length(human[1])\n",
    "        if human_homologs[i,3] == human[j,1]\n",
    "            push!(human_interactions, [human_homologs[i,1], human_homologs[i,2], human_homologs[i,3], human[j,2], human[j,3]])\n",
    "        end\n",
    "        if human_homologs[i,3] == human[j,2]\n",
    "            push!(human_interactions, [human_homologs[i,1], human_homologs[i,2], human_homologs[i,3], human[j,1], human[j,3]])\n",
    "        end\n",
    "    end\n",
    "end"
   ]
  },
  {
   "cell_type": "code",
   "execution_count": 33,
   "metadata": {},
   "outputs": [
    {
     "ename": "LoadError",
     "evalue": "\u001b[91mTypeError: non-boolean (DataArrays.NAtype) used in boolean context\u001b[39m",
     "output_type": "error",
     "traceback": [
      "\u001b[91mTypeError: non-boolean (DataArrays.NAtype) used in boolean context\u001b[39m",
      "",
      "Stacktrace:",
      " [1] \u001b[1mmacro expansion\u001b[22m\u001b[22m at \u001b[1m./In[33]:3\u001b[22m\u001b[22m [inlined]",
      " [2] \u001b[1manonymous\u001b[22m\u001b[22m at \u001b[1m./<missing>:?\u001b[22m\u001b[22m",
      " [3] \u001b[1minclude_string\u001b[22m\u001b[22m\u001b[1m(\u001b[22m\u001b[22m::String, ::String\u001b[1m)\u001b[22m\u001b[22m at \u001b[1m./loading.jl:515\u001b[22m\u001b[22m"
     ]
    }
   ],
   "source": []
  },
  {
   "cell_type": "code",
   "execution_count": 34,
   "metadata": {},
   "outputs": [
    {
     "data": {
      "text/html": [
       "<table class=\"data-frame\"><thead><tr><th></th><th>_gene</th><th>_dmel_homolog</th></tr></thead><tbody><tr><th>1</th><td>RUNX1</td><td>runt</td></tr><tr><th>2</th><td>RUNX2</td><td>runt</td></tr><tr><th>3</th><td>RUNX3</td><td>runt</td></tr><tr><th>4</th><td>ASCL1</td><td>scute</td></tr><tr><th>5</th><td>ASCL2</td><td>scute</td></tr><tr><th>6</th><td>ASCL3</td><td>scute</td></tr><tr><th>7</th><td>ASCL4</td><td>scute</td></tr><tr><th>8</th><td>ASCL5</td><td>scute</td></tr><tr><th>9</th><td>FIGLA</td><td>scute</td></tr><tr><th>10</th><td>HAND1</td><td>scute</td></tr><tr><th>11</th><td>HAND2</td><td>scute</td></tr><tr><th>12</th><td>LYL1</td><td>scute</td></tr><tr><th>13</th><td>MESP1</td><td>scute</td></tr><tr><th>14</th><td>MESP2</td><td>scute</td></tr><tr><th>15</th><td>MSC</td><td>scute</td></tr><tr><th>16</th><td>MSGN1</td><td>scute</td></tr><tr><th>17</th><td>NHLH1</td><td>scute</td></tr><tr><th>18</th><td>NHLH2</td><td>scute</td></tr><tr><th>19</th><td>PTF1A</td><td>scute</td></tr><tr><th>20</th><td>SCX</td><td>scute</td></tr><tr><th>21</th><td>TAL1</td><td>scute</td></tr><tr><th>22</th><td>TAL2</td><td>scute</td></tr><tr><th>23</th><td>TCF15</td><td>scute</td></tr><tr><th>24</th><td>TCF21</td><td>scute</td></tr><tr><th>25</th><td>TCF23</td><td>scute</td></tr><tr><th>26</th><td>TCF24</td><td>scute</td></tr><tr><th>27</th><td>ELAVL1</td><td>Sex-lethal</td></tr><tr><th>28</th><td>ELAVL2</td><td>Sex-lethal</td></tr><tr><th>29</th><td>ELAVL3</td><td>Sex-lethal</td></tr><tr><th>30</th><td>ELAVL4</td><td>Sex-lethal</td></tr><tr><th>&vellip;</th><td>&vellip;</td><td>&vellip;</td></tr></tbody></table>"
      ],
      "text/plain": [
       "58×2 DataFrames.DataFrame\n",
       "│ Row │ _gene   │ _dmel_homolog │\n",
       "├─────┼─────────┼───────────────┤\n",
       "│ 1   │ \"RUNX1\" │ \"runt\"        │\n",
       "│ 2   │ \"RUNX2\" │ \"runt\"        │\n",
       "│ 3   │ \"RUNX3\" │ \"runt\"        │\n",
       "│ 4   │ \"ASCL1\" │ \"scute\"       │\n",
       "│ 5   │ \"ASCL2\" │ \"scute\"       │\n",
       "│ 6   │ \"ASCL3\" │ \"scute\"       │\n",
       "│ 7   │ \"ASCL4\" │ \"scute\"       │\n",
       "│ 8   │ \"ASCL5\" │ \"scute\"       │\n",
       "│ 9   │ \"FIGLA\" │ \"scute\"       │\n",
       "│ 10  │ \"HAND1\" │ \"scute\"       │\n",
       "│ 11  │ \"HAND2\" │ \"scute\"       │\n",
       "⋮\n",
       "│ 47  │ \"HES3\"  │ \"deadpan\"     │\n",
       "│ 48  │ \"HES4\"  │ \"deadpan\"     │\n",
       "│ 49  │ \"HES5\"  │ \"deadpan\"     │\n",
       "│ 50  │ \"HES6\"  │ \"deadpan\"     │\n",
       "│ 51  │ \"HES7\"  │ \"deadpan\"     │\n",
       "│ 52  │ \"HEY1\"  │ \"deadpan\"     │\n",
       "│ 53  │ \"HEY2\"  │ \"deadpan\"     │\n",
       "│ 54  │ \"HEYL\"  │ \"deadpan\"     │\n",
       "│ 55  │ \"ID1\"   │ \"emc\"         │\n",
       "│ 56  │ \"ID2\"   │ \"emc\"         │\n",
       "│ 57  │ \"ID3\"   │ \"emc\"         │\n",
       "│ 58  │ \"ID4\"   │ \"emc\"         │"
      ]
     },
     "execution_count": 34,
     "metadata": {},
     "output_type": "execute_result"
    }
   ],
   "source": [
    "h_homologs"
   ]
  },
  {
   "cell_type": "code",
   "execution_count": null,
   "metadata": {
    "collapsed": true
   },
   "outputs": [],
   "source": []
  }
 ],
 "metadata": {
  "kernelspec": {
   "display_name": "Julia 0.6.0",
   "language": "julia",
   "name": "julia-0.6"
  },
  "language_info": {
   "file_extension": ".jl",
   "mimetype": "application/julia",
   "name": "julia",
   "version": "0.6.0"
  }
 },
 "nbformat": 4,
 "nbformat_minor": 2
}
