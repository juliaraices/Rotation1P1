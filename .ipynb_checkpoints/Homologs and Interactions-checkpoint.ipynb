{
 "cells": [
  {
   "cell_type": "code",
   "execution_count": 1,
   "metadata": {
    "collapsed": true
   },
   "outputs": [
    {
     "data": {
      "text/html": [
       "<table class=\"data-frame\"><thead><tr><th></th><th>_gene</th><th>_dmel_homolog</th></tr></thead><tbody><tr><th>1</th><td>rnt-1</td><td>runt</td></tr><tr><th>2</th><td>hlh-14</td><td>scute</td></tr><tr><th>3</th><td>hlh-3</td><td>scute</td></tr><tr><th>4</th><td>eif-3.G</td><td>Sex-lethal</td></tr><tr><th>5</th><td>exc-7</td><td>Sex-lethal</td></tr><tr><th>6</th><td>eya-1</td><td>groucho</td></tr><tr><th>7</th><td>unc-37</td><td>groucho</td></tr><tr><th>8</th><td>wdr-48</td><td>groucho</td></tr><tr><th>9</th><td>wdr-5.3</td><td>groucho</td></tr><tr><th>10</th><td>hlh-2</td><td>daughterless</td></tr><tr><th>11</th><td>F52G2.3</td><td>deadpan</td></tr><tr><th>12</th><td>hlh-25</td><td>deadpan</td></tr><tr><th>13</th><td>hlh-27</td><td>deadpan</td></tr><tr><th>14</th><td>lin-22</td><td>deadpan</td></tr></tbody></table>"
      ],
      "text/plain": [
       "14×2 DataFrames.DataFrame\n",
       "│ Row │ _gene     │ _dmel_homolog  │\n",
       "├─────┼───────────┼────────────────┤\n",
       "│ 1   │ \"rnt-1\"   │ \"runt\"         │\n",
       "│ 2   │ \"hlh-14\"  │ \"scute\"        │\n",
       "│ 3   │ \"hlh-3\"   │ \"scute\"        │\n",
       "│ 4   │ \"eif-3.G\" │ \"Sex-lethal\"   │\n",
       "│ 5   │ \"exc-7\"   │ \"Sex-lethal\"   │\n",
       "│ 6   │ \"eya-1\"   │ \"groucho\"      │\n",
       "│ 7   │ \"unc-37\"  │ \"groucho\"      │\n",
       "│ 8   │ \"wdr-48\"  │ \"groucho\"      │\n",
       "│ 9   │ \"wdr-5.3\" │ \"groucho\"      │\n",
       "│ 10  │ \"hlh-2\"   │ \"daughterless\" │\n",
       "│ 11  │ \"F52G2.3\" │ \"deadpan\"      │\n",
       "│ 12  │ \"hlh-25\"  │ \"deadpan\"      │\n",
       "│ 13  │ \"hlh-27\"  │ \"deadpan\"      │\n",
       "│ 14  │ \"lin-22\"  │ \"deadpan\"      │"
      ]
     },
     "execution_count": 1,
     "metadata": {},
     "output_type": "execute_result"
    }
   ],
   "source": [
    "using DataFrames\n",
    "celegans = readtable(\"celegans_experimental.txt\", header=false, separator=' ') # open as data frame\n",
    "c_aliases = readtable(\"celegans_aliases.txt\", header=false, separator='\\t', nastrings=[\"\",\"NA\"])\n",
    "c_orthologs = readtable(\"celegans_orthologs.txt\", header=true, separator='\\t')"
   ]
  },
  {
   "cell_type": "code",
   "execution_count": 2,
   "metadata": {
    "collapsed": true
   },
   "outputs": [
    {
     "data": {
      "text/html": [
       "<table class=\"data-frame\"><thead><tr><th></th><th>_gene</th><th>_dmel_homolog</th></tr></thead><tbody><tr><th>1</th><td>Runx2</td><td>runt</td></tr><tr><th>2</th><td>Runx1</td><td>runt</td></tr><tr><th>3</th><td>Runx3</td><td>runt</td></tr><tr><th>4</th><td>Ascl1</td><td>scute</td></tr><tr><th>5</th><td>Ascl2</td><td>scute</td></tr><tr><th>6</th><td>Ascl3</td><td>scute</td></tr><tr><th>7</th><td>Ascl4</td><td>scute</td></tr><tr><th>8</th><td>Ascl5</td><td>scute</td></tr><tr><th>9</th><td>Ferd3l</td><td>scute</td></tr><tr><th>10</th><td>Figla</td><td>scute</td></tr><tr><th>11</th><td>Hand1</td><td>scute</td></tr><tr><th>12</th><td>Hand2</td><td>scute</td></tr><tr><th>13</th><td>Lyl1</td><td>scute</td></tr><tr><th>14</th><td>Mesp1</td><td>scute</td></tr><tr><th>15</th><td>Mesp2</td><td>scute</td></tr><tr><th>16</th><td>Msc</td><td>scute</td></tr><tr><th>17</th><td>Msgn1</td><td>scute</td></tr><tr><th>18</th><td>Nhlh1</td><td>scute</td></tr><tr><th>19</th><td>Nhlh2</td><td>scute</td></tr><tr><th>20</th><td>Ptf1a</td><td>scute</td></tr><tr><th>21</th><td>Scx</td><td>scute</td></tr><tr><th>22</th><td>Tal1</td><td>scute</td></tr><tr><th>23</th><td>Tal2</td><td>scute</td></tr><tr><th>24</th><td>Tcf15</td><td>scute</td></tr><tr><th>25</th><td>Tcf21</td><td>scute</td></tr><tr><th>26</th><td>Tcf23</td><td>scute</td></tr><tr><th>27</th><td>Elavl1</td><td>Sex-lethal</td></tr><tr><th>28</th><td>Elavl2</td><td>Sex-lethal</td></tr><tr><th>29</th><td>Elavl3</td><td>Sex-lethal</td></tr><tr><th>30</th><td>Elavl4</td><td>Sex-lethal</td></tr><tr><th>&vellip;</th><td>&vellip;</td><td>&vellip;</td></tr></tbody></table>"
      ],
      "text/plain": [
       "58×2 DataFrames.DataFrame\n",
       "│ Row │ _gene    │ _dmel_homolog │\n",
       "├─────┼──────────┼───────────────┤\n",
       "│ 1   │ \"Runx2\"  │ \"runt\"        │\n",
       "│ 2   │ \"Runx1\"  │ \"runt\"        │\n",
       "│ 3   │ \"Runx3\"  │ \"runt\"        │\n",
       "│ 4   │ \"Ascl1\"  │ \"scute\"       │\n",
       "│ 5   │ \"Ascl2\"  │ \"scute\"       │\n",
       "│ 6   │ \"Ascl3\"  │ \"scute\"       │\n",
       "│ 7   │ \"Ascl4\"  │ \"scute\"       │\n",
       "│ 8   │ \"Ascl5\"  │ \"scute\"       │\n",
       "│ 9   │ \"Ferd3l\" │ \"scute\"       │\n",
       "│ 10  │ \"Figla\"  │ \"scute\"       │\n",
       "│ 11  │ \"Hand1\"  │ \"scute\"       │\n",
       "⋮\n",
       "│ 47  │ \"Hes2\"   │ \"deadpan\"     │\n",
       "│ 48  │ \"Hes3\"   │ \"deadpan\"     │\n",
       "│ 49  │ \"Hes5\"   │ \"deadpan\"     │\n",
       "│ 50  │ \"Hes6\"   │ \"deadpan\"     │\n",
       "│ 51  │ \"Hes7\"   │ \"deadpan\"     │\n",
       "│ 52  │ \"Hey1\"   │ \"deadpan\"     │\n",
       "│ 53  │ \"Hey2\"   │ \"deadpan\"     │\n",
       "│ 54  │ \"Heyl\"   │ \"deadpan\"     │\n",
       "│ 55  │ \"Id1\"    │ \"emc\"         │\n",
       "│ 56  │ \"Id2\"    │ \"emc\"         │\n",
       "│ 57  │ \"Id3\"    │ \"emc\"         │\n",
       "│ 58  │ \"Id4\"    │ \"emc\"         │"
      ]
     },
     "execution_count": 2,
     "metadata": {},
     "output_type": "execute_result"
    }
   ],
   "source": [
    "mouse = readtable(\"mouse_experimental.txt\", header=false, separator=' ') # open as data frame\n",
    "m_aliases = readtable(\"mouse_aliases.txt\", header=false, separator='\\t', nastrings=[\"\",\"NA\"])\n",
    "m_orthologs = readtable(\"mouse_orthologs.txt\", header=true, separator='\\t')"
   ]
  },
  {
   "cell_type": "code",
   "execution_count": 3,
   "metadata": {
    "collapsed": true
   },
   "outputs": [
    {
     "data": {
      "text/html": [
       "<table class=\"data-frame\"><thead><tr><th></th><th>_gene</th><th>_dmel_homolog</th></tr></thead><tbody><tr><th>1</th><td>GBP2</td><td>Sex-lethal</td></tr><tr><th>2</th><td>PAB1</td><td>Sex-lethal</td></tr><tr><th>3</th><td>TUP1</td><td>groucho</td></tr><tr><th>4</th><td>PHO4</td><td>deadpan</td></tr></tbody></table>"
      ],
      "text/plain": [
       "4×2 DataFrames.DataFrame\n",
       "│ Row │ _gene  │ _dmel_homolog │\n",
       "├─────┼────────┼───────────────┤\n",
       "│ 1   │ \"GBP2\" │ \"Sex-lethal\"  │\n",
       "│ 2   │ \"PAB1\" │ \"Sex-lethal\"  │\n",
       "│ 3   │ \"TUP1\" │ \"groucho\"     │\n",
       "│ 4   │ \"PHO4\" │ \"deadpan\"     │"
      ]
     },
     "execution_count": 3,
     "metadata": {},
     "output_type": "execute_result"
    }
   ],
   "source": [
    "yeast = readtable(\"yeast_experimental.txt\", header=false, separator=' ') # open as data frame\n",
    "y_aliases = readtable(\"yeast_aliases.txt\", header=false, separator='\\t', nastrings=[\"\",\"NA\"])\n",
    "y_orthologs = readtable(\"yeast_orthologs.txt\", header=true, separator='\\t')"
   ]
  },
  {
   "cell_type": "code",
   "execution_count": 4,
   "metadata": {
    "collapsed": true
   },
   "outputs": [
    {
     "data": {
      "text/html": [
       "<table class=\"data-frame\"><thead><tr><th></th><th>_gene_symbol</th><th>_dmel_name</th></tr></thead><tbody><tr><th>1</th><td>sisA</td><td>sisterless</td></tr><tr><th>2</th><td>run</td><td>runt</td></tr><tr><th>3</th><td>upd3</td><td>unpaired3</td></tr><tr><th>4</th><td>sc</td><td>scute</td></tr><tr><th>5</th><td>Sxl</td><td>Sex-lethal</td></tr><tr><th>6</th><td>gro</td><td>groucho</td></tr><tr><th>7</th><td>da</td><td>daughterless</td></tr><tr><th>8</th><td>her</td><td>hermaphrodite</td></tr><tr><th>9</th><td>dpn</td><td>deadpan</td></tr><tr><th>10</th><td>tra</td><td>transformer</td></tr><tr><th>11</th><td>emc</td><td>emc</td></tr></tbody></table>"
      ],
      "text/plain": [
       "11×2 DataFrames.DataFrame\n",
       "│ Row │ _gene_symbol │ _dmel_name      │\n",
       "├─────┼──────────────┼─────────────────┤\n",
       "│ 1   │ \"sisA\"       │ \"sisterless\"    │\n",
       "│ 2   │ \"run\"        │ \"runt\"          │\n",
       "│ 3   │ \"upd3\"       │ \"unpaired3\"     │\n",
       "│ 4   │ \"sc\"         │ \"scute\"         │\n",
       "│ 5   │ \"Sxl\"        │ \"Sex-lethal\"    │\n",
       "│ 6   │ \"gro\"        │ \"groucho\"       │\n",
       "│ 7   │ \"da\"         │ \"daughterless\"  │\n",
       "│ 8   │ \"her\"        │ \"hermaphrodite\" │\n",
       "│ 9   │ \"dpn\"        │ \"deadpan\"       │\n",
       "│ 10  │ \"tra\"        │ \"transformer\"   │\n",
       "│ 11  │ \"emc\"        │ \"emc\"           │"
      ]
     },
     "execution_count": 4,
     "metadata": {},
     "output_type": "execute_result"
    }
   ],
   "source": [
    "dmel = readtable(\"dmel_experimental.txt\", header=false, separator=' ') # open as data frame\n",
    "d_aliases = readtable(\"dmel_aliases.txt\", header=false, separator='\\t', nastrings=[\"\",\"NA\"])\n",
    "d_orthologs = readtable(\"dmel_orthologs.txt\", header=true, separator='\\t')"
   ]
  },
  {
   "cell_type": "code",
   "execution_count": 5,
   "metadata": {
    "collapsed": true
   },
   "outputs": [
    {
     "data": {
      "text/html": [
       "<table class=\"data-frame\"><thead><tr><th></th><th>_gene</th><th>_dmel_homolog</th></tr></thead><tbody><tr><th>1</th><td>RUNX1</td><td>runt</td></tr><tr><th>2</th><td>RUNX2</td><td>runt</td></tr><tr><th>3</th><td>RUNX3</td><td>runt</td></tr><tr><th>4</th><td>ASCL1</td><td>scute</td></tr><tr><th>5</th><td>ASCL2</td><td>scute</td></tr><tr><th>6</th><td>ASCL3</td><td>scute</td></tr><tr><th>7</th><td>ASCL4</td><td>scute</td></tr><tr><th>8</th><td>ASCL5</td><td>scute</td></tr><tr><th>9</th><td>FIGLA</td><td>scute</td></tr><tr><th>10</th><td>HAND1</td><td>scute</td></tr><tr><th>11</th><td>HAND2</td><td>scute</td></tr><tr><th>12</th><td>LYL1</td><td>scute</td></tr><tr><th>13</th><td>MESP1</td><td>scute</td></tr><tr><th>14</th><td>MESP2</td><td>scute</td></tr><tr><th>15</th><td>MSC</td><td>scute</td></tr><tr><th>16</th><td>MSGN1</td><td>scute</td></tr><tr><th>17</th><td>NHLH1</td><td>scute</td></tr><tr><th>18</th><td>NHLH2</td><td>scute</td></tr><tr><th>19</th><td>PTF1A</td><td>scute</td></tr><tr><th>20</th><td>SCX</td><td>scute</td></tr><tr><th>21</th><td>TAL1</td><td>scute</td></tr><tr><th>22</th><td>TAL2</td><td>scute</td></tr><tr><th>23</th><td>TCF15</td><td>scute</td></tr><tr><th>24</th><td>TCF21</td><td>scute</td></tr><tr><th>25</th><td>TCF23</td><td>scute</td></tr><tr><th>26</th><td>TCF24</td><td>scute</td></tr><tr><th>27</th><td>ELAVL1</td><td>Sex-lethal</td></tr><tr><th>28</th><td>ELAVL2</td><td>Sex-lethal</td></tr><tr><th>29</th><td>ELAVL3</td><td>Sex-lethal</td></tr><tr><th>30</th><td>ELAVL4</td><td>Sex-lethal</td></tr><tr><th>&vellip;</th><td>&vellip;</td><td>&vellip;</td></tr></tbody></table>"
      ],
      "text/plain": [
       "58×2 DataFrames.DataFrame\n",
       "│ Row │ _gene   │ _dmel_homolog │\n",
       "├─────┼─────────┼───────────────┤\n",
       "│ 1   │ \"RUNX1\" │ \"runt\"        │\n",
       "│ 2   │ \"RUNX2\" │ \"runt\"        │\n",
       "│ 3   │ \"RUNX3\" │ \"runt\"        │\n",
       "│ 4   │ \"ASCL1\" │ \"scute\"       │\n",
       "│ 5   │ \"ASCL2\" │ \"scute\"       │\n",
       "│ 6   │ \"ASCL3\" │ \"scute\"       │\n",
       "│ 7   │ \"ASCL4\" │ \"scute\"       │\n",
       "│ 8   │ \"ASCL5\" │ \"scute\"       │\n",
       "│ 9   │ \"FIGLA\" │ \"scute\"       │\n",
       "│ 10  │ \"HAND1\" │ \"scute\"       │\n",
       "│ 11  │ \"HAND2\" │ \"scute\"       │\n",
       "⋮\n",
       "│ 47  │ \"HES3\"  │ \"deadpan\"     │\n",
       "│ 48  │ \"HES4\"  │ \"deadpan\"     │\n",
       "│ 49  │ \"HES5\"  │ \"deadpan\"     │\n",
       "│ 50  │ \"HES6\"  │ \"deadpan\"     │\n",
       "│ 51  │ \"HES7\"  │ \"deadpan\"     │\n",
       "│ 52  │ \"HEY1\"  │ \"deadpan\"     │\n",
       "│ 53  │ \"HEY2\"  │ \"deadpan\"     │\n",
       "│ 54  │ \"HEYL\"  │ \"deadpan\"     │\n",
       "│ 55  │ \"ID1\"   │ \"emc\"         │\n",
       "│ 56  │ \"ID2\"   │ \"emc\"         │\n",
       "│ 57  │ \"ID3\"   │ \"emc\"         │\n",
       "│ 58  │ \"ID4\"   │ \"emc\"         │"
      ]
     },
     "execution_count": 5,
     "metadata": {},
     "output_type": "execute_result"
    }
   ],
   "source": [
    "human = readtable(\"human_experimental.txt\", header=false, separator=' ') # open as data frame\n",
    "h_aliases = readtable(\"human_aliases.txt\", header=false, separator='\\t', nastrings=[\"\",\"NA\"])\n",
    "h_orthologs = readtable(\"human_orthologs.txt\", header=true, separator='\\t')"
   ]
  },
  {
   "cell_type": "code",
   "execution_count": 170,
   "metadata": {},
   "outputs": [
    {
     "data": {
      "text/plain": [
       "interactions (generic function with 1 method)"
      ]
     },
     "execution_count": 170,
     "metadata": {},
     "output_type": "execute_result"
    }
   ],
   "source": [
    "### functions\n",
    "function orthologs(ortholog_table, aliases_table) # iei, it works for everyone ^^ \\o/\n",
    "    dataframe=DataFrame(gene=String[], dmel_homo=String[], strig_id=String[])\n",
    "    for i in 1:length(ortholog_table[1])\n",
    "        for j in 1:length(aliases_table[2])\n",
    "            if isna(aliases_table[j,2])\n",
    "            elseif ortholog_table[i,1] == aliases_table[j,2]\n",
    "                push!(dataframe, [ortholog_table[i,1], ortholog_table[i,2], aliases_table[j,1]])\n",
    "            end\n",
    "        end\n",
    "    end\n",
    "    return dataframe\n",
    "end\n",
    "\n",
    "function isthere(interactions_table, ortholog1, interactor1) # checks if this pair of interactors is in the table\n",
    "    for k in 1:length(interactions_table[3])\n",
    "        if interactions_table[k,3] == ortholog1 && interactions_table[k, 4] == interactor1\n",
    "            return true\n",
    "        elseif interactions_table[k,3] == interactor1 && interactions_table[k, 4] == ortholog1\n",
    "            return true\n",
    "        else\n",
    "            continue\n",
    "        end\n",
    "    end\n",
    "    return false\n",
    "end\n",
    "\n",
    "\n",
    "function interactions(orthologs_output, interactions_table) # works for all spp \\o/ | creates a data frame with all interactions for a given list of genes\n",
    "    interactions_df=DataFrame(gene=String[], dmel_homo=String[], strig_id=String[], interaction_id=String[], interaction_coeficient=Float64[])\n",
    "    numbers_dic=Dict{String,Int64}()\n",
    "    for i in 1:length(orthologs_output[3])\n",
    "        counter = 0\n",
    "        for j in 1:length(interactions_table[1])\n",
    "            if orthologs_output[i,3] == interactions_table[j,1]\n",
    "                if !isthere(interactions_df, orthologs_output[i,3], interactions_table[j,2])\n",
    "                    push!(interactions_df, [orthologs_output[i,1], orthologs_output[i,2], orthologs_output[i,3], interactions_table[j,2], interactions_table[j,3]])\n",
    "                    counter += 1\n",
    "                end\n",
    "            elseif orthologs_output[i,3]==interactions_table[j,2]\n",
    "                if !isthere(interactions_df, orthologs_output[i,3], interactions_table[j,2])\n",
    "                    push!(interactions_df, [orthologs_output[i,1], orthologs_output[i,2], orthologs_output[i,3], interactions_table[j,2], interactions_table[j,3]])\n",
    "                    counter += 1\n",
    "                end\n",
    "            end\n",
    "        end\n",
    "        numbers_dic[orthologs_output[i,1]]=counter\n",
    "    end\n",
    "    return interactions_df, numbers_dic\n",
    "end"
   ]
  },
  {
   "cell_type": "code",
   "execution_count": 9,
   "metadata": {
    "collapsed": true
   },
   "outputs": [],
   "source": [
    "celegans_orthologs=DataFrame(gene=String[], dmel_homo=String[], strig_id=String[])\n",
    "for i in 1:length(c_orthologs[1])\n",
    "    for j in 1:length(c_aliases[2])\n",
    "        if c_orthologs[i,1] == c_aliases[j,2]\n",
    "            push!(celegans_orthologs, [c_orthologs[i,1], c_orthologs[i,2], c_aliases[j,1]])\n",
    "        end\n",
    "    end\n",
    "end\n",
    "\n",
    "celegans_numbers=Dict{String,Int64}()\n",
    "celegans_interactions=DataFrame(gene=String[], dmel_homo=String[], strig_id=String[], interaction_id=String[], interaction_coeficient=Float64[])\n",
    "for i in 1:length(celegans_orthologs[3])\n",
    "    counter=0\n",
    "    for j in 1:length(celegans[1])\n",
    "        if celegans_orthologs[i,3] == celegans[j,1]\n",
    "            if celegans_orthologs[i,3] in celegans_interactions[3] && celegans[j,2] in celegans_interactions[4]\n",
    "                for k in 1:length(celegans_interactions)\n",
    "                    \n",
    "                    if celegans_interactions[k,3] == celegans_orthologs[i,3] && celegans_interactions[k, 4] == celegans[j,2]\n",
    "                        continue\n",
    "            push!(celegans_interactions, [celegans_orthologs[i,1], celegans_orthologs[i,2], celegans_orthologs[i,3], celegans[j,2], celegans[j,3]])\n",
    "            counter += 1\n",
    "        elseif celegans_orthologs[i,3] == celegans[j,2]\n",
    "            push!(celegans_interactions, [celegans_orthologs[i,1], celegans_orthologs[i,2], celegans_orthologs[i,3], celegans[j,1], celegans[j,3]])\n",
    "            counter += 1\n",
    "        end\n",
    "    end\n",
    "    celegans_numbers[celegans_orthologs[i,1]] = counter\n",
    "end\n",
    "            \n"
   ]
  },
  {
   "cell_type": "code",
   "execution_count": 172,
   "metadata": {},
   "outputs": [
    {
     "data": {
      "text/plain": [
       "(606×5 DataFrames.DataFrame\n",
       "│ Row │ gene   │ dmel_homo    │ strig_id       │ interaction_id │\n",
       "├─────┼────────┼──────────────┼────────────────┼────────────────┤\n",
       "│ 1   │ \"GBP2\" │ \"Sex-lethal\" │ \"4932.YCL011C\" │ \"4932.YCL011C\" │\n",
       "│ 2   │ \"GBP2\" │ \"Sex-lethal\" │ \"4932.YCL011C\" │ \"4932.YBR020W\" │\n",
       "│ 3   │ \"GBP2\" │ \"Sex-lethal\" │ \"4932.YCL011C\" │ \"4932.YOL121C\" │\n",
       "│ 4   │ \"GBP2\" │ \"Sex-lethal\" │ \"4932.YCL011C\" │ \"4932.YNL140C\" │\n",
       "│ 5   │ \"GBP2\" │ \"Sex-lethal\" │ \"4932.YCL011C\" │ \"4932.YOR001W\" │\n",
       "│ 6   │ \"GBP2\" │ \"Sex-lethal\" │ \"4932.YCL011C\" │ \"4932.YGL122C\" │\n",
       "│ 7   │ \"GBP2\" │ \"Sex-lethal\" │ \"4932.YCL011C\" │ \"4932.YDR091C\" │\n",
       "│ 8   │ \"GBP2\" │ \"Sex-lethal\" │ \"4932.YCL011C\" │ \"4932.YFL005W\" │\n",
       "│ 9   │ \"GBP2\" │ \"Sex-lethal\" │ \"4932.YCL011C\" │ \"4932.YDL213C\" │\n",
       "│ 10  │ \"GBP2\" │ \"Sex-lethal\" │ \"4932.YCL011C\" │ \"4932.YNL253W\" │\n",
       "│ 11  │ \"GBP2\" │ \"Sex-lethal\" │ \"4932.YCL011C\" │ \"4932.YEL034W\" │\n",
       "⋮\n",
       "│ 595 │ \"PHO4\" │ \"deadpan\"    │ \"4932.YFR034C\" │ \"4932.YKR062W\" │\n",
       "│ 596 │ \"PHO4\" │ \"deadpan\"    │ \"4932.YFR034C\" │ \"4932.YGR233C\" │\n",
       "│ 597 │ \"PHO4\" │ \"deadpan\"    │ \"4932.YFR034C\" │ \"4932.YHR136C\" │\n",
       "│ 598 │ \"PHO4\" │ \"deadpan\"    │ \"4932.YFR034C\" │ \"4932.YDR335W\" │\n",
       "│ 599 │ \"PHO4\" │ \"deadpan\"    │ \"4932.YFR034C\" │ \"4932.YER116C\" │\n",
       "│ 600 │ \"PHO4\" │ \"deadpan\"    │ \"4932.YFR034C\" │ \"4932.YMR308C\" │\n",
       "│ 601 │ \"PHO4\" │ \"deadpan\"    │ \"4932.YFR034C\" │ \"4932.YCR037C\" │\n",
       "│ 602 │ \"PHO4\" │ \"deadpan\"    │ \"4932.YFR034C\" │ \"4932.YOL001W\" │\n",
       "│ 603 │ \"PHO4\" │ \"deadpan\"    │ \"4932.YFR034C\" │ \"4932.YBL085W\" │\n",
       "│ 604 │ \"PHO4\" │ \"deadpan\"    │ \"4932.YFR034C\" │ \"4932.YLR262C\" │\n",
       "│ 605 │ \"PHO4\" │ \"deadpan\"    │ \"4932.YFR034C\" │ \"4932.YDR374C\" │\n",
       "│ 606 │ \"PHO4\" │ \"deadpan\"    │ \"4932.YFR034C\" │ \"4932.YNL031C\" │\n",
       "\n",
       "│ Row │ interaction_coeficient │\n",
       "├─────┼────────────────────────┤\n",
       "│ 1   │ 203.0                  │\n",
       "│ 2   │ 273.0                  │\n",
       "│ 3   │ 146.0                  │\n",
       "│ 4   │ 180.0                  │\n",
       "│ 5   │ 294.0                  │\n",
       "│ 6   │ 180.0                  │\n",
       "│ 7   │ 142.0                  │\n",
       "│ 8   │ 210.0                  │\n",
       "│ 9   │ 134.0                  │\n",
       "│ 10  │ 868.0                  │\n",
       "│ 11  │ 273.0                  │\n",
       "⋮\n",
       "│ 595 │ 652.0                  │\n",
       "│ 596 │ 647.0                  │\n",
       "│ 597 │ 621.0                  │\n",
       "│ 598 │ 577.0                  │\n",
       "│ 599 │ 238.0                  │\n",
       "│ 600 │ 577.0                  │\n",
       "│ 601 │ 654.0                  │\n",
       "│ 602 │ 652.0                  │\n",
       "│ 603 │ 159.0                  │\n",
       "│ 604 │ 172.0                  │\n",
       "│ 605 │ 454.0                  │\n",
       "│ 606 │ 275.0                  │, Dict(\"PAB1\"=>328,\"GBP2\"=>111,\"PHO4\"=>67,\"TUP1\"=>100))"
      ]
     },
     "execution_count": 172,
     "metadata": {},
     "output_type": "execute_result"
    }
   ],
   "source": [
    "interactions_output1, numbers_output1 = interactions(orthologs_output, yeast)"
   ]
  },
  {
   "cell_type": "code",
   "execution_count": 168,
   "metadata": {},
   "outputs": [
    {
     "data": {
      "text/plain": [
       "false"
      ]
     },
     "execution_count": 168,
     "metadata": {},
     "output_type": "execute_result"
    }
   ],
   "source": [
    "c = interactions_output[1,3]\n",
    "d = interactions_output[1,4]\n",
    "isthere(interactions_output, interactions_output[1,4], interactions_output[1,2])"
   ]
  },
  {
   "cell_type": "code",
   "execution_count": 173,
   "metadata": {},
   "outputs": [
    {
     "data": {
      "text/html": [
       "<table class=\"data-frame\"><thead><tr><th></th><th>gene</th><th>dmel_homo</th><th>strig_id</th><th>interaction_id</th><th>interaction_coeficient</th></tr></thead><tbody><tr><th>1</th><td>GBP2</td><td>Sex-lethal</td><td>4932.YCL011C</td><td>4932.YCL011C</td><td>203.0</td></tr><tr><th>2</th><td>GBP2</td><td>Sex-lethal</td><td>4932.YCL011C</td><td>4932.YBR020W</td><td>273.0</td></tr><tr><th>3</th><td>GBP2</td><td>Sex-lethal</td><td>4932.YCL011C</td><td>4932.YOL121C</td><td>146.0</td></tr><tr><th>4</th><td>GBP2</td><td>Sex-lethal</td><td>4932.YCL011C</td><td>4932.YNL140C</td><td>180.0</td></tr><tr><th>5</th><td>GBP2</td><td>Sex-lethal</td><td>4932.YCL011C</td><td>4932.YOR001W</td><td>294.0</td></tr><tr><th>6</th><td>GBP2</td><td>Sex-lethal</td><td>4932.YCL011C</td><td>4932.YGL122C</td><td>180.0</td></tr><tr><th>7</th><td>GBP2</td><td>Sex-lethal</td><td>4932.YCL011C</td><td>4932.YDR091C</td><td>142.0</td></tr><tr><th>8</th><td>GBP2</td><td>Sex-lethal</td><td>4932.YCL011C</td><td>4932.YFL005W</td><td>210.0</td></tr><tr><th>9</th><td>GBP2</td><td>Sex-lethal</td><td>4932.YCL011C</td><td>4932.YDL213C</td><td>134.0</td></tr><tr><th>10</th><td>GBP2</td><td>Sex-lethal</td><td>4932.YCL011C</td><td>4932.YNL253W</td><td>868.0</td></tr><tr><th>11</th><td>GBP2</td><td>Sex-lethal</td><td>4932.YCL011C</td><td>4932.YEL034W</td><td>273.0</td></tr><tr><th>12</th><td>GBP2</td><td>Sex-lethal</td><td>4932.YCL011C</td><td>4932.YFL034C-B</td><td>271.0</td></tr><tr><th>13</th><td>GBP2</td><td>Sex-lethal</td><td>4932.YCL011C</td><td>4932.YOL139C</td><td>868.0</td></tr><tr><th>14</th><td>GBP2</td><td>Sex-lethal</td><td>4932.YCL011C</td><td>4932.YGL120C</td><td>791.0</td></tr><tr><th>15</th><td>GBP2</td><td>Sex-lethal</td><td>4932.YCL011C</td><td>4932.YFR037C</td><td>93.0</td></tr><tr><th>16</th><td>GBP2</td><td>Sex-lethal</td><td>4932.YCL011C</td><td>4932.YDR457W</td><td>154.0</td></tr><tr><th>17</th><td>GBP2</td><td>Sex-lethal</td><td>4932.YCL011C</td><td>4932.YJL168C</td><td>290.0</td></tr><tr><th>18</th><td>GBP2</td><td>Sex-lethal</td><td>4932.YCL011C</td><td>4932.YJR145C</td><td>772.0</td></tr><tr><th>19</th><td>GBP2</td><td>Sex-lethal</td><td>4932.YCL011C</td><td>4932.YIL149C</td><td>191.0</td></tr><tr><th>20</th><td>GBP2</td><td>Sex-lethal</td><td>4932.YCL011C</td><td>4932.YKL068W</td><td>507.0</td></tr><tr><th>21</th><td>GBP2</td><td>Sex-lethal</td><td>4932.YCL011C</td><td>4932.YPR178W</td><td>142.0</td></tr><tr><th>22</th><td>GBP2</td><td>Sex-lethal</td><td>4932.YCL011C</td><td>4932.YBR048W</td><td>797.0</td></tr><tr><th>23</th><td>GBP2</td><td>Sex-lethal</td><td>4932.YCL011C</td><td>4932.YGL008C</td><td>273.0</td></tr><tr><th>24</th><td>GBP2</td><td>Sex-lethal</td><td>4932.YCL011C</td><td>4932.YLR320W</td><td>155.0</td></tr><tr><th>25</th><td>GBP2</td><td>Sex-lethal</td><td>4932.YCL011C</td><td>4932.YMR179W</td><td>154.0</td></tr><tr><th>26</th><td>GBP2</td><td>Sex-lethal</td><td>4932.YCL011C</td><td>4932.YIL038C</td><td>146.0</td></tr><tr><th>27</th><td>GBP2</td><td>Sex-lethal</td><td>4932.YCL011C</td><td>4932.YIL159W</td><td>299.0</td></tr><tr><th>28</th><td>GBP2</td><td>Sex-lethal</td><td>4932.YCL011C</td><td>4932.YMR125W</td><td>793.0</td></tr><tr><th>29</th><td>GBP2</td><td>Sex-lethal</td><td>4932.YCL011C</td><td>4932.YHR089C</td><td>146.0</td></tr><tr><th>30</th><td>GBP2</td><td>Sex-lethal</td><td>4932.YCL011C</td><td>4932.YOR160W</td><td>652.0</td></tr><tr><th>&vellip;</th><td>&vellip;</td><td>&vellip;</td><td>&vellip;</td><td>&vellip;</td><td>&vellip;</td></tr></tbody></table>"
      ],
      "text/plain": [
       "606×5 DataFrames.DataFrame\n",
       "│ Row │ gene   │ dmel_homo    │ strig_id       │ interaction_id │\n",
       "├─────┼────────┼──────────────┼────────────────┼────────────────┤\n",
       "│ 1   │ \"GBP2\" │ \"Sex-lethal\" │ \"4932.YCL011C\" │ \"4932.YCL011C\" │\n",
       "│ 2   │ \"GBP2\" │ \"Sex-lethal\" │ \"4932.YCL011C\" │ \"4932.YBR020W\" │\n",
       "│ 3   │ \"GBP2\" │ \"Sex-lethal\" │ \"4932.YCL011C\" │ \"4932.YOL121C\" │\n",
       "│ 4   │ \"GBP2\" │ \"Sex-lethal\" │ \"4932.YCL011C\" │ \"4932.YNL140C\" │\n",
       "│ 5   │ \"GBP2\" │ \"Sex-lethal\" │ \"4932.YCL011C\" │ \"4932.YOR001W\" │\n",
       "│ 6   │ \"GBP2\" │ \"Sex-lethal\" │ \"4932.YCL011C\" │ \"4932.YGL122C\" │\n",
       "│ 7   │ \"GBP2\" │ \"Sex-lethal\" │ \"4932.YCL011C\" │ \"4932.YDR091C\" │\n",
       "│ 8   │ \"GBP2\" │ \"Sex-lethal\" │ \"4932.YCL011C\" │ \"4932.YFL005W\" │\n",
       "│ 9   │ \"GBP2\" │ \"Sex-lethal\" │ \"4932.YCL011C\" │ \"4932.YDL213C\" │\n",
       "│ 10  │ \"GBP2\" │ \"Sex-lethal\" │ \"4932.YCL011C\" │ \"4932.YNL253W\" │\n",
       "│ 11  │ \"GBP2\" │ \"Sex-lethal\" │ \"4932.YCL011C\" │ \"4932.YEL034W\" │\n",
       "⋮\n",
       "│ 595 │ \"PHO4\" │ \"deadpan\"    │ \"4932.YFR034C\" │ \"4932.YKR062W\" │\n",
       "│ 596 │ \"PHO4\" │ \"deadpan\"    │ \"4932.YFR034C\" │ \"4932.YGR233C\" │\n",
       "│ 597 │ \"PHO4\" │ \"deadpan\"    │ \"4932.YFR034C\" │ \"4932.YHR136C\" │\n",
       "│ 598 │ \"PHO4\" │ \"deadpan\"    │ \"4932.YFR034C\" │ \"4932.YDR335W\" │\n",
       "│ 599 │ \"PHO4\" │ \"deadpan\"    │ \"4932.YFR034C\" │ \"4932.YER116C\" │\n",
       "│ 600 │ \"PHO4\" │ \"deadpan\"    │ \"4932.YFR034C\" │ \"4932.YMR308C\" │\n",
       "│ 601 │ \"PHO4\" │ \"deadpan\"    │ \"4932.YFR034C\" │ \"4932.YCR037C\" │\n",
       "│ 602 │ \"PHO4\" │ \"deadpan\"    │ \"4932.YFR034C\" │ \"4932.YOL001W\" │\n",
       "│ 603 │ \"PHO4\" │ \"deadpan\"    │ \"4932.YFR034C\" │ \"4932.YBL085W\" │\n",
       "│ 604 │ \"PHO4\" │ \"deadpan\"    │ \"4932.YFR034C\" │ \"4932.YLR262C\" │\n",
       "│ 605 │ \"PHO4\" │ \"deadpan\"    │ \"4932.YFR034C\" │ \"4932.YDR374C\" │\n",
       "│ 606 │ \"PHO4\" │ \"deadpan\"    │ \"4932.YFR034C\" │ \"4932.YNL031C\" │\n",
       "\n",
       "│ Row │ interaction_coeficient │\n",
       "├─────┼────────────────────────┤\n",
       "│ 1   │ 203.0                  │\n",
       "│ 2   │ 273.0                  │\n",
       "│ 3   │ 146.0                  │\n",
       "│ 4   │ 180.0                  │\n",
       "│ 5   │ 294.0                  │\n",
       "│ 6   │ 180.0                  │\n",
       "│ 7   │ 142.0                  │\n",
       "│ 8   │ 210.0                  │\n",
       "│ 9   │ 134.0                  │\n",
       "│ 10  │ 868.0                  │\n",
       "│ 11  │ 273.0                  │\n",
       "⋮\n",
       "│ 595 │ 652.0                  │\n",
       "│ 596 │ 647.0                  │\n",
       "│ 597 │ 621.0                  │\n",
       "│ 598 │ 577.0                  │\n",
       "│ 599 │ 238.0                  │\n",
       "│ 600 │ 577.0                  │\n",
       "│ 601 │ 654.0                  │\n",
       "│ 602 │ 652.0                  │\n",
       "│ 603 │ 159.0                  │\n",
       "│ 604 │ 172.0                  │\n",
       "│ 605 │ 454.0                  │\n",
       "│ 606 │ 275.0                  │"
      ]
     },
     "execution_count": 173,
     "metadata": {},
     "output_type": "execute_result"
    }
   ],
   "source": [
    "interactions_output1"
   ]
  },
  {
   "cell_type": "code",
   "execution_count": 72,
   "metadata": {},
   "outputs": [
    {
     "name": "stdout",
     "output_type": "stream",
     "text": [
      "1245"
     ]
    }
   ],
   "source": [
    "for i in 1:5\n",
    "    if i == 3\n",
    "        continue\n",
    "    else\n",
    "        print(i)\n",
    "    end\n",
    "end"
   ]
  },
  {
   "cell_type": "code",
   "execution_count": 71,
   "metadata": {},
   "outputs": [
    {
     "data": {
      "text/html": [
       "<table class=\"data-frame\"><thead><tr><th></th><th>strig_id</th><th>interaction_id</th></tr></thead><tbody><tr><th>1</th><td>6239.B0414.2</td><td>6239.F13G3.1</td></tr></tbody></table>"
      ],
      "text/plain": [
       "1×2 DataFrames.DataFrame\n",
       "│ Row │ strig_id       │ interaction_id │\n",
       "├─────┼────────────────┼────────────────┤\n",
       "│ 1   │ \"6239.B0414.2\" │ \"6239.F13G3.1\" │"
      ]
     },
     "execution_count": 71,
     "metadata": {},
     "output_type": "execute_result"
    }
   ],
   "source": [
    "c = \"6239.B0414.2\"\n",
    "d = \"6239.F13G3.1\"\n",
    "g=DataFrame(strig_id=String[], interaction_id=String[])\n",
    "push!(g,[c,d])\n",
    "f = celegans_interactions[3,[3,4]]\n",
    "#convert(Array, f[:,1,2])\n",
    "f == g\n",
    "#typeof(f)\n",
    "g"
   ]
  },
  {
   "cell_type": "code",
   "execution_count": 11,
   "metadata": {
    "collapsed": true
   },
   "outputs": [],
   "source": [
    "mouse_orthologs=DataFrame(gene=String[], dmel_homo=String[], strig_id=String[])\n",
    "for i in 1:length(m_orthologs[1])\n",
    "    for j in 1:length(m_aliases[2])\n",
    "        if m_orthologs[i,1] == m_aliases[j,2]\n",
    "            push!(mouse_orthologs, [m_orthologs[i,1], m_orthologs[i,2], m_aliases[j,1]])\n",
    "        end\n",
    "    end\n",
    "end\n",
    "\n",
    "mouse_numbers=Dict{String,Int64}()\n",
    "mouse_interactions=DataFrame(gene=String[], dmel_homo=String[], strig_id=String[], interaction_id=String[], interaction_coeficient=Float64[])\n",
    "for i in 1:length(mouse_orthologs[3])\n",
    "    counter = 0\n",
    "    for j in 1:length(mouse[1])\n",
    "        if mouse_orthologs[i,3] == mouse[j,1]\n",
    "            push!(mouse_interactions, [mouse_orthologs[i,1], mouse_orthologs[i,2], mouse_orthologs[i,3], mouse[j,2], mouse[j,3]])\n",
    "            counter += 1\n",
    "        elseif mouse_orthologs[i,3] == mouse[j,2]\n",
    "            push!(mouse_interactions, [mouse_orthologs[i,1], mouse_orthologs[i,2], mouse_orthologs[i,3], mouse[j,1], mouse[j,3]])\n",
    "            counter += 1\n",
    "        end\n",
    "    end\n",
    "    mouse_numbers[mouse_orthologs[i,1]] = counter\n",
    "end"
   ]
  },
  {
   "cell_type": "code",
   "execution_count": 12,
   "metadata": {
    "collapsed": true
   },
   "outputs": [],
   "source": [
    "yeast_orthologs=DataFrame(gene=String[], dmel_homo=String[], strig_id=String[])\n",
    "for i in 1:length(y_orthologs[1])\n",
    "    for j in 1:length(y_aliases[2])\n",
    "        if y_orthologs[i,1] == y_aliases[j,2]\n",
    "            push!(yeast_orthologs, [y_orthologs[i,1], y_orthologs[i,2], y_aliases[j,1]])\n",
    "        end\n",
    "    end\n",
    "end\n",
    "\n",
    "yeast_interactions=DataFrame(gene=String[], dmel_homo=String[], strig_id=String[], interaction_id=String[], interaction_coeficient=Float64[])\n",
    "yeast_numbers=Dict{String,Int64}()\n",
    "for i in 1:length(yeast_orthologs[3])\n",
    "    counter = 0\n",
    "    for j in 1:length(yeast[1])\n",
    "        if yeast_orthologs[i,3] == yeast[j,1]\n",
    "            push!(yeast_interactions, [yeast_orthologs[i,1], yeast_orthologs[i,2], yeast_orthologs[i,3], yeast[j,2], yeast[j,3]])\n",
    "            counter += 1\n",
    "        elseif yeast_orthologs[i,3] == yeast[j,2]\n",
    "            push!(yeast_interactions, [yeast_orthologs[i,1], yeast_orthologs[i,2], yeast_orthologs[i,3], yeast[j,1], yeast[j,3]])\n",
    "            counter += 1\n",
    "        end\n",
    "    end\n",
    "    yeast_numbers[yeast_orthologs[i,1]] = counter\n",
    "end"
   ]
  },
  {
   "cell_type": "code",
   "execution_count": 13,
   "metadata": {
    "collapsed": true
   },
   "outputs": [],
   "source": [
    "dmel_orthologs=DataFrame(gene=String[], dmel_homo=String[], strig_id=String[])\n",
    "for i in 1:length(d_orthologs[1])\n",
    "    for j in 1:length(d_aliases[2])\n",
    "        if d_orthologs[i,1] == d_aliases[j,2]\n",
    "            push!(dmel_orthologs, [d_orthologs[i,1], d_orthologs[i,2], d_aliases[j,1]])\n",
    "        end\n",
    "    end\n",
    "end\n",
    "\n",
    "dmel_interactions=DataFrame(gene=String[], dmel_homo=String[], strig_id=String[], interaction_id=String[], interaction_coeficient=Float64[])\n",
    "dmel_numbers=Dict{String,Int64}()\n",
    "for i in 1:length(dmel_orthologs[3])\n",
    "    counter = 0\n",
    "    for j in 1:length(dmel[1])\n",
    "        if dmel_orthologs[i,3] == dmel[j,1]\n",
    "            push!(dmel_interactions, [dmel_orthologs[i,1], dmel_orthologs[i,2], dmel_orthologs[i,3], dmel[j,2], dmel[j,3]])\n",
    "            counter += 1\n",
    "        elseif dmel_orthologs[i,3] == dmel[j,2]\n",
    "            push!(dmel_interactions, [dmel_orthologs[i,1], dmel_orthologs[i,2], dmel_orthologs[i,3], dmel[j,1], dmel[j,3]])\n",
    "            counter += 1\n",
    "        end\n",
    "    end\n",
    "    dmel_numbers[dmel_orthologs[i,1]] = counter\n",
    "end"
   ]
  },
  {
   "cell_type": "code",
   "execution_count": 14,
   "metadata": {
    "collapsed": true
   },
   "outputs": [],
   "source": [
    "human_orthologs=DataFrame(gene=String[], dmel_homo=String[], strig_id=String[])\n",
    "for i in 1:length(h_orthologs[1])\n",
    "    for j in 1:length(h_aliases[2])\n",
    "        if isna(h_aliases[j,2])\n",
    "        elseif h_orthologs[i,1] == h_aliases[j,2]\n",
    "            push!(human_orthologs, [h_orthologs[i,1], h_orthologs[i,2], h_aliases[j,1]])\n",
    "        end\n",
    "    end\n",
    "end\n",
    "\n",
    "\n",
    "human_interactions=DataFrame(gene=String[], dmel_homo=String[], strig_id=String[], interaction_id=String[], interaction_coeficient=Float64[])\n",
    "human_numbers=Dict{String,Int64}()\n",
    "for i in 1:length(human_orthologs[3])\n",
    "    counter = 0\n",
    "    for j in 1:length(human[1])\n",
    "        if human_orthologs[i,3] == human[j,1]\n",
    "            push!(human_interactions, [human_orthologs[i,1], human_orthologs[i,2], human_orthologs[i,3], human[j,2], human[j,3]])\n",
    "            counter += 1\n",
    "        elseif human_orthologs[i,3] == human[j,2]\n",
    "            push!(human_interactions, [human_orthologs[i,1], human_orthologs[i,2], human_orthologs[i,3], human[j,1], human[j,3]])\n",
    "            counter += 1\n",
    "        end\n",
    "    end\n",
    "    human_numbers[human_orthologs[i,1]] = counter\n",
    "end"
   ]
  },
  {
   "cell_type": "code",
   "execution_count": 39,
   "metadata": {},
   "outputs": [],
   "source": [
    "yeast_numberswithin=Dict{String,Int64}()\n",
    "yeast_interactionswithin=DataFrame(gene1=String[], dmel_homo1=String[], strig_id=String[], interaction_id=String[], gene2=String[], dmel_homo2=String[], interaction_coeficient=Float64[])\n",
    "\n",
    "for i in 1:length(yeast_orthologs[1])\n",
    "    counter = 0\n",
    "    for j in 1:length(yeast_interactions[1])\n",
    "        if yeast_interactions[j,1]==yeast_orthologs[i,1] && yeast_interactions[j,4] in yeast_orthologs[3]\n",
    "            for k in 1:length(yeast_orthologs[3])\n",
    "                if yeast_orthologs[k,3] == yeast_interactions[j,4]\n",
    "                    push!(yeast_interactionswithin, [yeast_interactions[j,1],yeast_interactions[j,2],yeast_interactions[j,3],yeast_interactions[j,4],yeast_orthologs[k,1],yeast_orthologs[k,2],yeast_interactions[j,5]])\n",
    "                    counter += 1\n",
    "                    continue\n",
    "                end\n",
    "            end\n",
    "        elseif yeast_interactions[j,4]==yeast_orthologs[i,3] && yeast_interactions[j,4] in yeast_orthologs[3]\n",
    "           counter += 1\n",
    "        end\n",
    "    end\n",
    "    yeast_numberswithin[yeast_orthologs[i,1]] = counter\n",
    "end"
   ]
  },
  {
   "cell_type": "code",
   "execution_count": 41,
   "metadata": {},
   "outputs": [
    {
     "data": {
      "text/html": [
       "<table class=\"data-frame\"><thead><tr><th></th><th>gene</th><th>dmel_homo</th><th>strig_id</th><th>interaction_id</th><th>interaction_coeficient</th></tr></thead><tbody><tr><th>1</th><td>GBP2</td><td>Sex-lethal</td><td>4932.YCL011C</td><td>4932.YAL041W</td><td>203.0</td></tr><tr><th>2</th><td>GBP2</td><td>Sex-lethal</td><td>4932.YCL011C</td><td>4932.YAL056W</td><td>59.0</td></tr><tr><th>3</th><td>GBP2</td><td>Sex-lethal</td><td>4932.YCL011C</td><td>4932.YAL059W</td><td>146.0</td></tr><tr><th>4</th><td>GBP2</td><td>Sex-lethal</td><td>4932.YCL011C</td><td>4932.YBR020W</td><td>273.0</td></tr><tr><th>5</th><td>GBP2</td><td>Sex-lethal</td><td>4932.YCL011C</td><td>4932.YBR048W</td><td>797.0</td></tr><tr><th>6</th><td>GBP2</td><td>Sex-lethal</td><td>4932.YCL011C</td><td>4932.YBR167C</td><td>132.0</td></tr><tr><th>7</th><td>GBP2</td><td>Sex-lethal</td><td>4932.YCL011C</td><td>4932.YBR189W</td><td>772.0</td></tr><tr><th>8</th><td>GBP2</td><td>Sex-lethal</td><td>4932.YCL011C</td><td>4932.YBR020W</td><td>273.0</td></tr><tr><th>9</th><td>GBP2</td><td>Sex-lethal</td><td>4932.YCL011C</td><td>4932.YOL121C</td><td>146.0</td></tr><tr><th>10</th><td>GBP2</td><td>Sex-lethal</td><td>4932.YCL011C</td><td>4932.YNL140C</td><td>180.0</td></tr><tr><th>11</th><td>GBP2</td><td>Sex-lethal</td><td>4932.YCL011C</td><td>4932.YOR001W</td><td>294.0</td></tr><tr><th>12</th><td>GBP2</td><td>Sex-lethal</td><td>4932.YCL011C</td><td>4932.YGL122C</td><td>180.0</td></tr><tr><th>13</th><td>GBP2</td><td>Sex-lethal</td><td>4932.YCL011C</td><td>4932.YDR091C</td><td>142.0</td></tr><tr><th>14</th><td>GBP2</td><td>Sex-lethal</td><td>4932.YCL011C</td><td>4932.YFL005W</td><td>210.0</td></tr><tr><th>15</th><td>GBP2</td><td>Sex-lethal</td><td>4932.YCL011C</td><td>4932.YDL213C</td><td>134.0</td></tr><tr><th>16</th><td>GBP2</td><td>Sex-lethal</td><td>4932.YCL011C</td><td>4932.YNL253W</td><td>868.0</td></tr><tr><th>17</th><td>GBP2</td><td>Sex-lethal</td><td>4932.YCL011C</td><td>4932.YEL034W</td><td>273.0</td></tr><tr><th>18</th><td>GBP2</td><td>Sex-lethal</td><td>4932.YCL011C</td><td>4932.YFL034C-B</td><td>271.0</td></tr><tr><th>19</th><td>GBP2</td><td>Sex-lethal</td><td>4932.YCL011C</td><td>4932.YOL139C</td><td>868.0</td></tr><tr><th>20</th><td>GBP2</td><td>Sex-lethal</td><td>4932.YCL011C</td><td>4932.YGL120C</td><td>791.0</td></tr><tr><th>21</th><td>GBP2</td><td>Sex-lethal</td><td>4932.YCL011C</td><td>4932.YFR037C</td><td>93.0</td></tr><tr><th>22</th><td>GBP2</td><td>Sex-lethal</td><td>4932.YCL011C</td><td>4932.YDR457W</td><td>154.0</td></tr><tr><th>23</th><td>GBP2</td><td>Sex-lethal</td><td>4932.YCL011C</td><td>4932.YJL168C</td><td>290.0</td></tr><tr><th>24</th><td>GBP2</td><td>Sex-lethal</td><td>4932.YCL011C</td><td>4932.YJR145C</td><td>772.0</td></tr><tr><th>25</th><td>GBP2</td><td>Sex-lethal</td><td>4932.YCL011C</td><td>4932.YIL149C</td><td>191.0</td></tr><tr><th>26</th><td>GBP2</td><td>Sex-lethal</td><td>4932.YCL011C</td><td>4932.YKL068W</td><td>507.0</td></tr><tr><th>27</th><td>GBP2</td><td>Sex-lethal</td><td>4932.YCL011C</td><td>4932.YPR178W</td><td>142.0</td></tr><tr><th>28</th><td>GBP2</td><td>Sex-lethal</td><td>4932.YCL011C</td><td>4932.YBR048W</td><td>797.0</td></tr><tr><th>29</th><td>GBP2</td><td>Sex-lethal</td><td>4932.YCL011C</td><td>4932.YGL008C</td><td>273.0</td></tr><tr><th>30</th><td>GBP2</td><td>Sex-lethal</td><td>4932.YCL011C</td><td>4932.YLR320W</td><td>155.0</td></tr><tr><th>&vellip;</th><td>&vellip;</td><td>&vellip;</td><td>&vellip;</td><td>&vellip;</td><td>&vellip;</td></tr></tbody></table>"
      ],
      "text/plain": [
       "1206×5 DataFrames.DataFrame\n",
       "│ Row  │ gene   │ dmel_homo    │ strig_id       │ interaction_id │\n",
       "├──────┼────────┼──────────────┼────────────────┼────────────────┤\n",
       "│ 1    │ \"GBP2\" │ \"Sex-lethal\" │ \"4932.YCL011C\" │ \"4932.YAL041W\" │\n",
       "│ 2    │ \"GBP2\" │ \"Sex-lethal\" │ \"4932.YCL011C\" │ \"4932.YAL056W\" │\n",
       "│ 3    │ \"GBP2\" │ \"Sex-lethal\" │ \"4932.YCL011C\" │ \"4932.YAL059W\" │\n",
       "│ 4    │ \"GBP2\" │ \"Sex-lethal\" │ \"4932.YCL011C\" │ \"4932.YBR020W\" │\n",
       "│ 5    │ \"GBP2\" │ \"Sex-lethal\" │ \"4932.YCL011C\" │ \"4932.YBR048W\" │\n",
       "│ 6    │ \"GBP2\" │ \"Sex-lethal\" │ \"4932.YCL011C\" │ \"4932.YBR167C\" │\n",
       "│ 7    │ \"GBP2\" │ \"Sex-lethal\" │ \"4932.YCL011C\" │ \"4932.YBR189W\" │\n",
       "│ 8    │ \"GBP2\" │ \"Sex-lethal\" │ \"4932.YCL011C\" │ \"4932.YBR020W\" │\n",
       "│ 9    │ \"GBP2\" │ \"Sex-lethal\" │ \"4932.YCL011C\" │ \"4932.YOL121C\" │\n",
       "│ 10   │ \"GBP2\" │ \"Sex-lethal\" │ \"4932.YCL011C\" │ \"4932.YNL140C\" │\n",
       "│ 11   │ \"GBP2\" │ \"Sex-lethal\" │ \"4932.YCL011C\" │ \"4932.YOR001W\" │\n",
       "⋮\n",
       "│ 1195 │ \"PHO4\" │ \"deadpan\"    │ \"4932.YFR034C\" │ \"4932.YNL255C\" │\n",
       "│ 1196 │ \"PHO4\" │ \"deadpan\"    │ \"4932.YFR034C\" │ \"4932.YNL289W\" │\n",
       "│ 1197 │ \"PHO4\" │ \"deadpan\"    │ \"4932.YFR034C\" │ \"4932.YNL330C\" │\n",
       "│ 1198 │ \"PHO4\" │ \"deadpan\"    │ \"4932.YFR034C\" │ \"4932.YOL001W\" │\n",
       "│ 1199 │ \"PHO4\" │ \"deadpan\"    │ \"4932.YFR034C\" │ \"4932.YOL004W\" │\n",
       "│ 1200 │ \"PHO4\" │ \"deadpan\"    │ \"4932.YFR034C\" │ \"4932.YOL108C\" │\n",
       "│ 1201 │ \"PHO4\" │ \"deadpan\"    │ \"4932.YFR034C\" │ \"4932.YOR061W\" │\n",
       "│ 1202 │ \"PHO4\" │ \"deadpan\"    │ \"4932.YFR034C\" │ \"4932.YOR289W\" │\n",
       "│ 1203 │ \"PHO4\" │ \"deadpan\"    │ \"4932.YFR034C\" │ \"4932.YOR290C\" │\n",
       "│ 1204 │ \"PHO4\" │ \"deadpan\"    │ \"4932.YFR034C\" │ \"4932.YOR304W\" │\n",
       "│ 1205 │ \"PHO4\" │ \"deadpan\"    │ \"4932.YFR034C\" │ \"4932.YPL031C\" │\n",
       "│ 1206 │ \"PHO4\" │ \"deadpan\"    │ \"4932.YFR034C\" │ \"4932.YPR086W\" │\n",
       "\n",
       "│ Row  │ interaction_coeficient │\n",
       "├──────┼────────────────────────┤\n",
       "│ 1    │ 203.0                  │\n",
       "│ 2    │ 59.0                   │\n",
       "│ 3    │ 146.0                  │\n",
       "│ 4    │ 273.0                  │\n",
       "│ 5    │ 797.0                  │\n",
       "│ 6    │ 132.0                  │\n",
       "│ 7    │ 772.0                  │\n",
       "│ 8    │ 273.0                  │\n",
       "│ 9    │ 146.0                  │\n",
       "│ 10   │ 180.0                  │\n",
       "│ 11   │ 294.0                  │\n",
       "⋮\n",
       "│ 1195 │ 157.0                  │\n",
       "│ 1196 │ 524.0                  │\n",
       "│ 1197 │ 207.0                  │\n",
       "│ 1198 │ 652.0                  │\n",
       "│ 1199 │ 647.0                  │\n",
       "│ 1200 │ 654.0                  │\n",
       "│ 1201 │ 524.0                  │\n",
       "│ 1202 │ 201.0                  │\n",
       "│ 1203 │ 454.0                  │\n",
       "│ 1204 │ 127.0                  │\n",
       "│ 1205 │ 652.0                  │\n",
       "│ 1206 │ 652.0                  │"
      ]
     },
     "execution_count": 41,
     "metadata": {},
     "output_type": "execute_result"
    }
   ],
   "source": [
    "yeast_interactions\n",
    "    \n"
   ]
  },
  {
   "cell_type": "code",
   "execution_count": 21,
   "metadata": {
    "collapsed": true,
    "scrolled": true
   },
   "outputs": [],
   "source": [
    "celegans_numberswithin=Dict{String,Int64}()\n",
    "celegans_interactionswithin=DataFrame(gene1=String[], dmel_homo1=String[], strig_id=String[], interaction_id=String[], gene2=String[], dmel_homo2=String[], interaction_coeficient=Float64[])\n",
    "\n",
    "for i in c_orthologs[1]\n",
    "    counter = 0\n",
    "    for j in 1:length(celegans_interactions[1])\n",
    "        if celegans_interactions[j,1]==i && celegans_interactions[j,4] in celegans_orthologs[3]\n",
    "            for k in 1:length(celegans_orthologs[3])\n",
    "                if celegans_orthologs[k,3] == celegans_interactions[j,4]\n",
    "                    push!(celegans_interactionswithin, [celegans_interactions[j,1],celegans_interactions[j,2],celegans_interactions[j,3],celegans_interactions[j,4],celegans_orthologs[k,1],celegans_orthologs[k,2],celegans_interactions[j,5]])\n",
    "                    counter += 1\n",
    "                end\n",
    "            end\n",
    "        end\n",
    "    end\n",
    "    celegans_numberswithin[i] = counter\n",
    "end"
   ]
  },
  {
   "cell_type": "code",
   "execution_count": 22,
   "metadata": {
    "collapsed": true
   },
   "outputs": [],
   "source": [
    "dmel_numberswithin=Dict{String,Int64}()\n",
    "dmel_interactionswithin=DataFrame(gene1=String[], dmel_homo1=String[], strig_id=String[], interaction_id=String[], gene2=String[], dmel_homo2=String[], interaction_coeficient=Float64[])\n",
    "\n",
    "for i in d_orthologs[1]\n",
    "    counter = 0\n",
    "    for j in 1:length(dmel_interactions[1])\n",
    "        if dmel_interactions[j,1]==i && dmel_interactions[j,4] in dmel_orthologs[3]\n",
    "            for k in 1:length(dmel_orthologs[3])\n",
    "                if dmel_orthologs[k,3] == dmel_interactions[j,4]\n",
    "                    push!(dmel_interactionswithin, [dmel_interactions[j,1],dmel_interactions[j,2],dmel_interactions[j,3],dmel_interactions[j,4],dmel_orthologs[k,1],dmel_orthologs[k,2],dmel_interactions[j,5]])\n",
    "                    counter += 1\n",
    "                end\n",
    "            end\n",
    "        end\n",
    "    end\n",
    "    dmel_numberswithin[i] = counter\n",
    "end"
   ]
  },
  {
   "cell_type": "code",
   "execution_count": 23,
   "metadata": {
    "collapsed": true
   },
   "outputs": [],
   "source": [
    "mouse_numberswithin=Dict{String,Int64}()\n",
    "mouse_interactionswithin=DataFrame(gene1=String[], dmel_homo1=String[], strig_id=String[], interaction_id=String[], gene2=String[], dmel_homo2=String[], interaction_coeficient=Float64[])\n",
    "\n",
    "for i in m_orthologs[1]\n",
    "    counter = 0\n",
    "    for j in 1:length(mouse_interactions[1])\n",
    "        if mouse_interactions[j,1]==i && mouse_interactions[j,4] in mouse_orthologs[3]\n",
    "            for k in 1:length(mouse_orthologs[3])\n",
    "                if mouse_orthologs[k,3] == mouse_interactions[j,4]\n",
    "                    push!(mouse_interactionswithin, [mouse_interactions[j,1],mouse_interactions[j,2],mouse_interactions[j,3],mouse_interactions[j,4],mouse_orthologs[k,1],mouse_orthologs[k,2],mouse_interactions[j,5]])\n",
    "                    counter += 1\n",
    "                end\n",
    "            end\n",
    "        end\n",
    "    end\n",
    "    mouse_numberswithin[i] = counter\n",
    "end"
   ]
  },
  {
   "cell_type": "code",
   "execution_count": 24,
   "metadata": {
    "collapsed": true
   },
   "outputs": [],
   "source": [
    "human_numberswithin=Dict{String,Int64}()\n",
    "human_interactionswithin=DataFrame(gene1=String[], dmel_homo1=String[], strig_id=String[], interaction_id=String[], gene2=String[], dmel_homo2=String[], interaction_coeficient=Float64[])\n",
    "\n",
    "for i in h_orthologs[1]\n",
    "    counter = 0\n",
    "    for j in 1:length(human_interactions[1])\n",
    "        if human_interactions[j,1]==i && human_interactions[j,4] in human_orthologs[3]\n",
    "            for k in 1:length(human_orthologs[3])\n",
    "                if human_orthologs[k,3] == human_interactions[j,4]\n",
    "                    push!(human_interactionswithin, [human_interactions[j,1],human_interactions[j,2],human_interactions[j,3],human_interactions[j,4],human_orthologs[k,1],human_orthologs[k,2],human_interactions[j,5]])\n",
    "                    counter += 1\n",
    "                end\n",
    "            end\n",
    "        end\n",
    "    end\n",
    "    human_numberswithin[i] = counter\n",
    "end"
   ]
  },
  {
   "cell_type": "code",
   "execution_count": 25,
   "metadata": {
    "collapsed": true
   },
   "outputs": [],
   "source": [
    "yeast_proportion=Dict{String,Float64}()\n",
    "for i in y_orthologs[1]\n",
    "    counter = 0\n",
    "    counter = yeast_numberswithin[i]/yeast_numbers[i]\n",
    "    yeast_proportion[i] = counter\n",
    "end"
   ]
  },
  {
   "cell_type": "code",
   "execution_count": 26,
   "metadata": {
    "collapsed": true
   },
   "outputs": [],
   "source": [
    "celegans_proportion=Dict{String,Float64}()\n",
    "for i in c_orthologs[1]\n",
    "    counter = 0\n",
    "    counter = celegans_numberswithin[i]/celegans_numbers[i]\n",
    "    celegans_proportion[i] = counter\n",
    "end"
   ]
  },
  {
   "cell_type": "code",
   "execution_count": 27,
   "metadata": {
    "collapsed": true
   },
   "outputs": [],
   "source": [
    "dmel_proportion=Dict{String,Float64}()\n",
    "for i in d_orthologs[1]\n",
    "    counter = 0\n",
    "    counter = dmel_numberswithin[i]/dmel_numbers[i]\n",
    "    dmel_proportion[i] = counter\n",
    "end"
   ]
  },
  {
   "cell_type": "code",
   "execution_count": 28,
   "metadata": {
    "collapsed": true
   },
   "outputs": [],
   "source": [
    "mouse_proportion=Dict{String,Float64}()\n",
    "for i in m_orthologs[1]\n",
    "    counter = 0\n",
    "    counter = mouse_numberswithin[i]/mouse_numbers[i]\n",
    "    mouse_proportion[i] = counter\n",
    "end"
   ]
  },
  {
   "cell_type": "code",
   "execution_count": 29,
   "metadata": {
    "collapsed": true
   },
   "outputs": [],
   "source": [
    "human_proportion=Dict{String,Float64}()\n",
    "for i in h_orthologs[1]\n",
    "    counter = 0\n",
    "    counter = human_numberswithin[i]/human_numbers[i]\n",
    "    human_proportion[i] = counter\n",
    "end"
   ]
  },
  {
   "cell_type": "code",
   "execution_count": null,
   "metadata": {
    "collapsed": true
   },
   "outputs": [],
   "source": [
    "yeast_numbers_orth=Dict{String,Int64}()\n",
    "for i in 1:length(y_orthologs[2])\n",
    "    counter = 0\n",
    "    for j in 1:length(yeast_interactions[1])\n",
    "        if yeast_interactions[j,1]==y_orthologs[i,1]\n",
    "            counter += 1\n",
    "        end\n",
    "    end\n",
    "    if !(haskey(yeast_numbers_orth, y_orthologs[i,2]))\n",
    "        yeast_numbers_orth[y_orthologs[i,2]] = counter\n",
    "    else\n",
    "        yeast_numbers_orth[y_orthologs[i,2]] += counter\n",
    "    end\n",
    "end\n",
    "\n",
    "yeast_numberswithin_orth=Dict{String,Int64}()\n",
    "for i in 1:length(y_orthologs[2])\n",
    "    counter = 0\n",
    "    for j in 1:length(yeast_interactions[1])\n",
    "        if yeast_interactions[j,1]==i && yeast_interactions[j,4] in yeast_orthologs[3]\n",
    "            counter += 1\n",
    "        end\n",
    "    end\n",
    "    if !(haskey(yeast_numberswithin_orth, y_orthologs[i,2]))\n",
    "        yeast_numberswithin_orth[y_orthologs[i,2]] = counter\n",
    "    else\n",
    "        yeast_numberswithin_orth[y_orthologs[i,2]] += counter\n",
    "    end\n",
    "end\n",
    "\n",
    "yeast_proportion_orth=Dict{String,Float64}()\n",
    "for i in 1:length(y_orthologs[2])\n",
    "    counter = 0\n",
    "    counter = yeast_numberswithin_orth[y_orthologs[i,2]]/yeast_numbers_orth[y_orthologs[i,2]]\n",
    "    yeast_proportion_orth[y_orthologs[i,2]] = counter\n",
    "end"
   ]
  },
  {
   "cell_type": "code",
   "execution_count": null,
   "metadata": {
    "collapsed": true
   },
   "outputs": [],
   "source": [
    "dmel_numbers_orth=Dict{String,Int64}()\n",
    "for i in 1:length(d_orthologs[2])\n",
    "    counter = 0\n",
    "    for j in 1:length(dmel_interactions[1])\n",
    "        if dmel_interactions[j,1]==d_orthologs[i,1]\n",
    "            counter += 1\n",
    "        end\n",
    "    end\n",
    "    if !(haskey(dmel_numbers_orth, d_orthologs[i,2]))\n",
    "        dmel_numbers_orth[d_orthologs[i,2]] = counter\n",
    "    else\n",
    "        dmel_numbers_orth[d_orthologs[i,2]] += counter\n",
    "    end\n",
    "end\n",
    "\n",
    "dmel_numberswithin_orth=Dict{String,Int64}()\n",
    "for i in 1:length(d_orthologs[2])\n",
    "    counter = 0\n",
    "    for j in 1:length(dmel_interactions[1])\n",
    "        if dmel_interactions[j,1]==i && dmel_interactions[j,4] in dmel_orthologs[3]\n",
    "            counter += 1\n",
    "        end\n",
    "    end\n",
    "    if !(haskey(dmel_numberswithin_orth, d_orthologs[i,2]))\n",
    "        dmel_numberswithin_orth[d_orthologs[i,2]] = counter\n",
    "    else\n",
    "        dmel_numberswithin_orth[d_orthologs[i,2]] += counter\n",
    "    end\n",
    "end\n",
    "\n",
    "dmel_proportion_orth=Dict{String,Float64}()\n",
    "for i in 1:length(d_orthologs[2])\n",
    "    counter = 0\n",
    "    counter = dmel_numberswithin_orth[d_orthologs[i,2]]/dmel_numbers_orth[d_orthologs[i,2]]\n",
    "    dmel_proportion_orth[d_orthologs[i,2]] = counter\n",
    "end"
   ]
  },
  {
   "cell_type": "code",
   "execution_count": null,
   "metadata": {
    "collapsed": true
   },
   "outputs": [],
   "source": [
    "celegans_numbers_orth=Dict{String,Int64}()\n",
    "for i in 1:length(c_orthologs[2])\n",
    "    counter = 0\n",
    "    for j in 1:length(celegans_interactions[1])\n",
    "        if celegans_interactions[j,1]==c_orthologs[i,1]\n",
    "            counter += 1\n",
    "        end\n",
    "    end\n",
    "    if !(haskey(celegans_numbers_orth, c_orthologs[i,2]))\n",
    "        celegans_numbers_orth[c_orthologs[i,2]] = counter\n",
    "    else\n",
    "        celegans_numbers_orth[c_orthologs[i,2]] += counter\n",
    "    end\n",
    "end\n",
    "\n",
    "celegans_numberswithin_orth=Dict{String,Int64}()\n",
    "for i in 1:length(c_orthologs[2])\n",
    "    counter = 0\n",
    "    for j in 1:length(celegans_interactions[1])\n",
    "        if celegans_interactions[j,1]==i && celegans_interactions[j,4] in celegans_orthologs[3]\n",
    "            counter += 1\n",
    "        end\n",
    "    end\n",
    "    if !(haskey(celegans_numberswithin_orth, c_orthologs[i,2]))\n",
    "        celegans_numberswithin_orth[c_orthologs[i,2]] = counter\n",
    "    else\n",
    "        celegans_numberswithin_orth[c_orthologs[i,2]] += counter\n",
    "    end\n",
    "end\n",
    "\n",
    "celegans_proportion_orth=Dict{String,Float64}()\n",
    "for i in 1:length(c_orthologs[2])\n",
    "    counter = 0\n",
    "    counter = celegans_numberswithin_orth[c_orthologs[i,2]]/celegans_numbers_orth[c_orthologs[i,2]]\n",
    "    celegans_proportion_orth[c_orthologs[i,2]] = counter\n",
    "end"
   ]
  },
  {
   "cell_type": "code",
   "execution_count": null,
   "metadata": {
    "collapsed": true
   },
   "outputs": [],
   "source": [
    "mouse_numbers_orth=Dict{String,Int64}()\n",
    "for i in 1:length(m_orthologs[2])\n",
    "    counter = 0\n",
    "    for j in 1:length(mouse_interactions[1])\n",
    "        if mouse_interactions[j,1]==m_orthologs[i,1]\n",
    "            counter += 1\n",
    "        end\n",
    "    end\n",
    "    if !(haskey(mouse_numbers_orth, m_orthologs[i,2]))\n",
    "        mouse_numbers_orth[m_orthologs[i,2]] = counter\n",
    "    else\n",
    "        mouse_numbers_orth[m_orthologs[i,2]] += counter\n",
    "    end\n",
    "end\n",
    "\n",
    "mouse_numberswithin_orth=Dict{String,Int64}()\n",
    "for i in 1:length(m_orthologs[2])\n",
    "    counter = 0\n",
    "    for j in 1:length(mouse_interactions[1])\n",
    "        if mouse_interactions[j,1]==i && mouse_interactions[j,4] in mouse_orthologs[3]\n",
    "            counter += 1\n",
    "        end\n",
    "    end\n",
    "    if !(haskey(mouse_numberswithin_orth, m_orthologs[i,2]))\n",
    "        mouse_numberswithin_orth[m_orthologs[i,2]] = counter\n",
    "    else\n",
    "        mouse_numberswithin_orth[m_orthologs[i,2]] += counter\n",
    "    end\n",
    "end\n",
    "\n",
    "mouse_proportion_orth=Dict{String,Float64}()\n",
    "for i in 1:length(m_orthologs[2])\n",
    "    counter = 0\n",
    "    counter = mouse_numberswithin_orth[m_orthologs[i,2]]/mouse_numbers_orth[m_orthologs[i,2]]\n",
    "    mouse_proportion_orth[m_orthologs[i,2]] = counter\n",
    "end"
   ]
  },
  {
   "cell_type": "code",
   "execution_count": null,
   "metadata": {
    "collapsed": true
   },
   "outputs": [],
   "source": [
    "human_numbers_orth=Dict{String,Int64}()\n",
    "for i in 1:length(h_orthologs[2])\n",
    "    counter = 0\n",
    "    for j in 1:length(human_interactions[1])\n",
    "        if human_interactions[j,1]==h_orthologs[i,1]\n",
    "            counter += 1\n",
    "        end\n",
    "    end\n",
    "    if !(haskey(human_numbers_orth, h_orthologs[i,2]))\n",
    "        human_numbers_orth[h_orthologs[i,2]] = counter\n",
    "    else\n",
    "        human_numbers_orth[h_orthologs[i,2]] += counter\n",
    "    end\n",
    "end\n",
    "\n",
    "human_numberswithin_orth=Dict{String,Int64}()\n",
    "for i in 1:length(h_orthologs[2])\n",
    "    counter = 0\n",
    "    for j in 1:length(human_interactions[1])\n",
    "        if human_interactions[j,1]==i && human_interactions[j,4] in human_orthologs[3]\n",
    "            counter += 1\n",
    "        end\n",
    "    end\n",
    "    if !(haskey(human_numberswithin_orth, h_orthologs[i,2]))\n",
    "        human_numberswithin_orth[h_orthologs[i,2]] = counter\n",
    "    else\n",
    "        human_numberswithin_orth[h_orthologs[i,2]] += counter\n",
    "    end\n",
    "end\n",
    "\n",
    "human_proportion_orth=Dict{String,Float64}()\n",
    "for i in 1:length(h_orthologs[2])\n",
    "    counter = 0\n",
    "    counter = human_numberswithin_orth[h_orthologs[i,2]]/human_numbers_orth[h_orthologs[i,2]]\n",
    "    human_proportion_orth[h_orthologs[i,2]] = counter\n",
    "end"
   ]
  },
  {
   "cell_type": "code",
   "execution_count": null,
   "metadata": {
    "collapsed": true
   },
   "outputs": [],
   "source": [
    "writetable(\"yeast_allinteractions1.txt\", yeast_interactions, separator='\\t', header=true, nastring=\"NA\")\n",
    "writetable(\"yeast_queryinteractions1.txt\", yeast_interactionswithin, separator='\\t', header=true, nastring=\"NA\")\n",
    "\n",
    "writetable(\"celegans_allinteractions1.txt\", celegans_interactions, separator='\\t', header=true, nastring=\"NA\")\n",
    "writetable(\"celegans_queryinteractions1.txt\", celegans_interactionswithin, separator='\\t', header=true, nastring=\"NA\")\n",
    "\n",
    "writetable(\"dmel_allinteractions1.txt\", dmel_interactions, separator='\\t', header=true, nastring=\"NA\")\n",
    "writetable(\"dmel_queryinteractions1.txt\", dmel_interactionswithin, separator='\\t', header=true, nastring=\"NA\")\n",
    "\n",
    "writetable(\"mouse_allinteractions1.txt\", mouse_interactions, separator='\\t', header=true, nastring=\"NA\")\n",
    "writetable(\"mouse_queryinteractions1.txt\", mouse_interactionswithin, separator='\\t', header=true, nastring=\"NA\")\n",
    "\n",
    "writetable(\"human_allinteractions1.txt\", human_interactions, separator='\\t', header=true, nastring=\"NA\")\n",
    "writetable(\"human_queryinteractions1.txt\", human_interactionswithin, separator='\\t', header=true, nastring=\"NA\")"
   ]
  },
  {
   "cell_type": "code",
   "execution_count": null,
   "metadata": {
    "collapsed": true
   },
   "outputs": [],
   "source": [
    "yeast_filenumbers1=DataFrame(gene1=String[], dmel_homo=String[], total_interactions=Int64[], withinquery_interactions=Int64[], percentage_withinquery=Float64[])\n",
    "for i in 1:length(yeast_orthologs)\n",
    "    push!(yeast_filenumbers1, [yeast_orthologs[i,1],yeast_orthologs[i,2],yeast_numbers[yeast_orthologs[i,1]],yeast_numberswithin[yeast_orthologs[i,1]],yeast_proportion[yeast_orthologs[i,1]]])\n",
    "end\n",
    "\n",
    "writetable(\"yeast_numbers1.txt\", yeast_filenumbers1, separator='\\t', header=true, nastring=\"NA\")"
   ]
  },
  {
   "cell_type": "code",
   "execution_count": null,
   "metadata": {
    "collapsed": true,
    "scrolled": true
   },
   "outputs": [],
   "source": [
    "celegans_filenumbers1=DataFrame(gene1=String[], dmel_homo=String[], total_interactions=Int64[], withinquery_interactions=Int64[], percentage_withinquery=Float64[])\n",
    "for i in 1:length(celegans_orthologs)\n",
    "    push!(celegans_filenumbers1, [celegans_orthologs[i,1],celegans_orthologs[i,2],celegans_numbers[celegans_orthologs[i,1]],celegans_numberswithin[celegans_orthologs[i,1]],celegans_proportion[celegans_orthologs[i,1]]])\n",
    "end\n",
    "\n",
    "writetable(\"celegans_numbers1.txt\", celegans_filenumbers1, separator='\\t', header=true, nastring=\"NA\")"
   ]
  },
  {
   "cell_type": "code",
   "execution_count": null,
   "metadata": {
    "collapsed": true
   },
   "outputs": [],
   "source": [
    "dmel_filenumbers1=DataFrame(gene1=String[], dmel_homo=String[], total_interactions=Int64[], withinquery_interactions=Int64[], percentage_withinquery=Float64[])\n",
    "for i in 1:length(dmel_orthologs)\n",
    "    push!(dmel_filenumbers1, [dmel_orthologs[i,1],dmel_orthologs[i,2],dmel_numbers[dmel_orthologs[i,1]],dmel_numberswithin[dmel_orthologs[i,1]],dmel_proportion[dmel_orthologs[i,1]]])\n",
    "end\n",
    "\n",
    "writetable(\"dmel_numbers1.txt\", dmel_filenumbers1, separator='\\t', header=true, nastring=\"NA\")"
   ]
  },
  {
   "cell_type": "code",
   "execution_count": null,
   "metadata": {
    "collapsed": true
   },
   "outputs": [],
   "source": [
    "mouse_filenumbers1=DataFrame(gene1=String[], dmel_homo=String[], total_interactions=Int64[], withinquery_interactions=Int64[], percentage_withinquery=Float64[])\n",
    "for i in 1:length(mouse_orthologs)\n",
    "    push!(mouse_filenumbers1, [mouse_orthologs[i,1],mouse_orthologs[i,2],mouse_numbers[mouse_orthologs[i,1]],mouse_numberswithin[mouse_orthologs[i,1]],mouse_proportion[mouse_orthologs[i,1]]])\n",
    "end\n",
    "\n",
    "writetable(\"mouse_numbers1.txt\", mouse_filenumbers1, separator='\\t', header=true, nastring=\"NA\")"
   ]
  },
  {
   "cell_type": "code",
   "execution_count": null,
   "metadata": {
    "collapsed": true
   },
   "outputs": [],
   "source": [
    "human_filenumbers1=DataFrame(gene1=String[], dmel_homo=String[], total_interactions=Int64[], withinquery_interactions=Int64[], percentage_withinquery=Float64[])\n",
    "for i in 1:length(human_orthologs)\n",
    "    push!(human_filenumbers1, [human_orthologs[i,1],human_orthologs[i,2],human_numbers[human_orthologs[i,1]],human_numberswithin[human_orthologs[i,1]],human_proportion[human_orthologs[i,1]]])\n",
    "end\n",
    "\n",
    "writetable(\"human_numbers1.txt\", human_filenumbers1, separator='\\t', header=true, nastring=\"NA\")"
   ]
  },
  {
   "cell_type": "code",
   "execution_count": null,
   "metadata": {
    "collapsed": true
   },
   "outputs": [],
   "source": [
    "all_filenumbers=DataFrame(dmel_homo=String[], dmel_total_interactions=Int64[], dmel_withinquery_interactions=Int64[], dmel_percentage_withinquery=Float64[], yeast_total_interactions=Int64[], yeast_withinquery_interactions=Int64[], yeast_percentage_withinquery=Float64[], celegans_total_interactions=Int64[], celegans_withinquery_interactions=Int64[], celegans_percentage_withinquery=Float64[], mouse_total_interactions=Int64[], mouse_withinquery_interactions=Int64[], mouse_percentage_withinquery=Float64[], human_total_interactions=Int64[], human_withinquery_interactions=Int64[], human_percentage_withinquery=Float64[])\n",
    "for i in 2:length(dmel_orthologs[2])\n",
    "    if !(haskey(yeast_numbers_orth[dmel_orthologs[i,2]]))\n",
    "        yeast_numbers_orth[dmel_orthologs[i,2]] = 0\n",
    "        yeast_numberswithin_orth[dmel_orthologs[i,2]] = 0\n",
    "        yeast_proportion_orth[dmel_orthologs[i,2]] = 0\n",
    "    end\n",
    "    if !(haskey(celegans_numbers_orth[dmel_orthologs[i,2]]))\n",
    "        celegans_numbers_orth[dmel_orthologs[i,2]] = 0\n",
    "        celegans_numberswithin_orth[dmel_orthologs[i,2]] = 0\n",
    "        celegans_proportion_orth[dmel_orthologs[i,2]] = 0\n",
    "    end\n",
    "    if !(haskey(mouse_numbes_orth[dmel_orthologs[i,2]]))\n",
    "        mouse_numbers_orth[dmel_orthologs[i,2]] = 0\n",
    "        mouse_numberswithin_orth[dmel_orthologs[i,2]] = 0\n",
    "        mouse_proportion_orth[dmel_orthologs[i,2]] = 0\n",
    "    end\n",
    "    if !(haskey(human_numbers_orth[dmel_orthologs[i,2]]))\n",
    "        human_numbers_orth[dmel_orthologs[i,2]] = 0\n",
    "        human_numberswithin_orth[dmel_orthologs[i,2]] = 0\n",
    "        human_proportion_orth[dmel_orthologs[i,2]] = 0\n",
    "    end\n",
    "    push!(all_filenumbers, [dmel_orthologs[i,2], dmel_numbers_orth[dmel_orthologs[i,2]], dmel_numberswithin_orth[dmel_orthologs[i,2]], dmel_proportion_orth[dmel_orthologs[i,2]], \n",
    "                yeast_numbers_orth[dmel_orthologs[i,2]], yeast_numberswithin_orth[dmel_orthologs[i,2]], yeast_proportion_orth[dmel_orthologs[i,2]], \n",
    "                celegans_numbers_orth[dmel_orthologs[i,2]], celegans_numberswithin_orth[dmel_orthologs[i,2]], celegans_proportion_orth[dmel_orthologs[i,2]], \n",
    "                mouse_numbers_orth[dmel_orthologs[i,2]], mouse_numberswithin_orth[dmel_orthologs[i,2]], mouse_proportion_orth[dmel_orthologs[i,2]], \n",
    "                human_numbers_orth[dmel_orthologs[i,2]], human_numberswithin_orth[dmel_orthologs[i,2]], human_proportion_orth[dmel_orthologs[i,2]]])\n",
    "end\n",
    "\n",
    "writetable(\"allorthologs_numbers2.txt\", all_filenumbers, separator='\\t', header=true, nastring=\"NA\")"
   ]
  },
  {
   "cell_type": "code",
   "execution_count": 8,
   "metadata": {},
   "outputs": [
    {
     "data": {
      "text/html": [
       "<table class=\"data-frame\"><thead><tr><th></th><th>gene</th><th>dmel_homo</th><th>strig_id</th></tr></thead><tbody><tr><th>1</th><td>rnt-1</td><td>runt</td><td>6239.B0414.2</td></tr><tr><th>2</th><td>hlh-14</td><td>scute</td><td>6239.C18A3.8</td></tr><tr><th>3</th><td>hlh-3</td><td>scute</td><td>6239.T24B8.6</td></tr><tr><th>4</th><td>eif-3.G</td><td>Sex-lethal</td><td>6239.F22B5.2.1</td></tr><tr><th>5</th><td>exc-7</td><td>Sex-lethal</td><td>6239.F35H8.5</td></tr><tr><th>6</th><td>eya-1</td><td>groucho</td><td>6239.C49A1.4a</td></tr><tr><th>7</th><td>unc-37</td><td>groucho</td><td>6239.W02D3.9.2</td></tr><tr><th>8</th><td>wdr-48</td><td>groucho</td><td>6239.F35G12.4c</td></tr><tr><th>9</th><td>wdr-5.3</td><td>groucho</td><td>6239.ZC302.2a</td></tr><tr><th>10</th><td>hlh-2</td><td>daughterless</td><td>6239.M05B5.5a</td></tr><tr><th>11</th><td>F52G2.3</td><td>deadpan</td><td>6239.F52G2.3.1</td></tr><tr><th>12</th><td>hlh-25</td><td>deadpan</td><td>6239.C17C3.7</td></tr><tr><th>13</th><td>hlh-27</td><td>deadpan</td><td>6239.C17C3.10</td></tr><tr><th>14</th><td>lin-22</td><td>deadpan</td><td>6239.Y54G2A.1</td></tr></tbody></table>"
      ],
      "text/plain": [
       "14×3 DataFrames.DataFrame\n",
       "│ Row │ gene      │ dmel_homo      │ strig_id         │\n",
       "├─────┼───────────┼────────────────┼──────────────────┤\n",
       "│ 1   │ \"rnt-1\"   │ \"runt\"         │ \"6239.B0414.2\"   │\n",
       "│ 2   │ \"hlh-14\"  │ \"scute\"        │ \"6239.C18A3.8\"   │\n",
       "│ 3   │ \"hlh-3\"   │ \"scute\"        │ \"6239.T24B8.6\"   │\n",
       "│ 4   │ \"eif-3.G\" │ \"Sex-lethal\"   │ \"6239.F22B5.2.1\" │\n",
       "│ 5   │ \"exc-7\"   │ \"Sex-lethal\"   │ \"6239.F35H8.5\"   │\n",
       "│ 6   │ \"eya-1\"   │ \"groucho\"      │ \"6239.C49A1.4a\"  │\n",
       "│ 7   │ \"unc-37\"  │ \"groucho\"      │ \"6239.W02D3.9.2\" │\n",
       "│ 8   │ \"wdr-48\"  │ \"groucho\"      │ \"6239.F35G12.4c\" │\n",
       "│ 9   │ \"wdr-5.3\" │ \"groucho\"      │ \"6239.ZC302.2a\"  │\n",
       "│ 10  │ \"hlh-2\"   │ \"daughterless\" │ \"6239.M05B5.5a\"  │\n",
       "│ 11  │ \"F52G2.3\" │ \"deadpan\"      │ \"6239.F52G2.3.1\" │\n",
       "│ 12  │ \"hlh-25\"  │ \"deadpan\"      │ \"6239.C17C3.7\"   │\n",
       "│ 13  │ \"hlh-27\"  │ \"deadpan\"      │ \"6239.C17C3.10\"  │\n",
       "│ 14  │ \"lin-22\"  │ \"deadpan\"      │ \"6239.Y54G2A.1\"  │"
      ]
     },
     "execution_count": 8,
     "metadata": {},
     "output_type": "execute_result"
    }
   ],
   "source": [
    "celegans_orthologs"
   ]
  },
  {
   "cell_type": "code",
   "execution_count": null,
   "metadata": {
    "collapsed": true
   },
   "outputs": [],
   "source": [
    "dmel_numbers_orth"
   ]
  },
  {
   "cell_type": "code",
   "execution_count": null,
   "metadata": {
    "collapsed": true
   },
   "outputs": [],
   "source": [
    "dmel_numberswithin_orth"
   ]
  },
  {
   "cell_type": "code",
   "execution_count": null,
   "metadata": {
    "collapsed": true
   },
   "outputs": [],
   "source": [
    "yeast_numberswithin_orth"
   ]
  },
  {
   "cell_type": "code",
   "execution_count": null,
   "metadata": {
    "collapsed": true
   },
   "outputs": [],
   "source": [
    "yeast_numbers_orth"
   ]
  },
  {
   "cell_type": "code",
   "execution_count": null,
   "metadata": {
    "collapsed": true
   },
   "outputs": [],
   "source": [
    "mouse_numbers_orth"
   ]
  },
  {
   "cell_type": "code",
   "execution_count": null,
   "metadata": {
    "collapsed": true
   },
   "outputs": [],
   "source": [
    "mouse_numberswithin_orth"
   ]
  },
  {
   "cell_type": "code",
   "execution_count": null,
   "metadata": {
    "collapsed": true
   },
   "outputs": [],
   "source": [
    "mouse_numberswithin"
   ]
  },
  {
   "cell_type": "code",
   "execution_count": null,
   "metadata": {
    "collapsed": true
   },
   "outputs": [],
   "source": [
    "celegans_numbers_orth"
   ]
  },
  {
   "cell_type": "code",
   "execution_count": null,
   "metadata": {
    "collapsed": true
   },
   "outputs": [],
   "source": [
    "celegans_numberswithin_orth"
   ]
  },
  {
   "cell_type": "code",
   "execution_count": null,
   "metadata": {
    "collapsed": true
   },
   "outputs": [],
   "source": [
    "human_numbers_orth"
   ]
  },
  {
   "cell_type": "code",
   "execution_count": null,
   "metadata": {
    "collapsed": true
   },
   "outputs": [],
   "source": [
    "human_numberswithin_orth"
   ]
  },
  {
   "cell_type": "code",
   "execution_count": null,
   "metadata": {
    "collapsed": true
   },
   "outputs": [],
   "source": []
  }
 ],
 "metadata": {
  "kernelspec": {
   "display_name": "Julia 0.6.0",
   "language": "julia",
   "name": "julia-0.6"
  },
  "language_info": {
   "file_extension": ".jl",
   "mimetype": "application/julia",
   "name": "julia",
   "version": "0.6.0"
  }
 },
 "nbformat": 4,
 "nbformat_minor": 2
}
