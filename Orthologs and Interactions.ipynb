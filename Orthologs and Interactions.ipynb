{
 "cells": [
  {
   "cell_type": "code",
   "execution_count": 2,
   "metadata": {},
   "outputs": [
    {
     "data": {
      "text/plain": [
       "numbers_orth (generic function with 1 method)"
      ]
     },
     "execution_count": 2,
     "metadata": {},
     "output_type": "execute_result"
    }
   ],
   "source": [
    "### functions\n",
    "function orthologs(ortholog_table, aliases_table) # iei, it works for everyone ^^ \\o/\n",
    "    dataframe=DataFrame(gene=String[], dmel_homo=String[], string_id=String[])\n",
    "    for i in 1:length(ortholog_table[1])\n",
    "        for j in 1:length(aliases_table[2])\n",
    "            if isna(aliases_table[j,2])\n",
    "            elseif ortholog_table[i,1] == aliases_table[j,2]\n",
    "                push!(dataframe, [ortholog_table[i,1], ortholog_table[i,2], aliases_table[j,1]])\n",
    "            end\n",
    "        end\n",
    "    end\n",
    "    return dataframe\n",
    "end\n",
    "\n",
    "function isthere(interactions_table, ortholog1, interactor1) # checks if this pair of interactors is in the table\n",
    "    for k in 1:length(interactions_table[3])\n",
    "        if interactions_table[k,3] == ortholog1 && interactions_table[k, 4] == interactor1\n",
    "            return true\n",
    "        elseif interactions_table[k,3] == interactor1 && interactions_table[k, 4] == ortholog1\n",
    "            return true\n",
    "        else\n",
    "            continue\n",
    "        end\n",
    "    end\n",
    "    return false\n",
    "end\n",
    "\n",
    "\n",
    "function interactions(orthologs_output, interactions_table) # works for all spp \\o/ | creates a data frame with all interactions for a given list of genes\n",
    "    interactions_df=DataFrame(gene=String[], dmel_homo=String[], string_id=String[], interaction_id=String[], interaction_coeficient=Float64[])\n",
    "    numbers_dic=Dict{String,Int64}()\n",
    "    for i in 1:length(orthologs_output[3])\n",
    "        counter = 0\n",
    "        for j in 1:length(interactions_table[1])\n",
    "            if orthologs_output[i,3] == interactions_table[j,1]\n",
    "                if !isthere(interactions_df, orthologs_output[i,3], interactions_table[j,2]) && orthologs_output[i,3]!=interactions_table[j,2]\n",
    "                    push!(interactions_df, [orthologs_output[i,1], orthologs_output[i,2], orthologs_output[i,3], interactions_table[j,2], interactions_table[j,3]])\n",
    "                    counter += 1\n",
    "                end\n",
    "            elseif orthologs_output[i,3]==interactions_table[j,2]\n",
    "                if !isthere(interactions_df, orthologs_output[i,3], interactions_table[j,2]) && orthologs_output[i,3]!=interactions_table[j,2]\n",
    "                    push!(interactions_df, [orthologs_output[i,1], orthologs_output[i,2], orthologs_output[i,3], interactions_table[j,2], interactions_table[j,3]])\n",
    "                    counter += 1\n",
    "                end\n",
    "            end\n",
    "        end\n",
    "        numbers_dic[orthologs_output[i,1]]=counter\n",
    "    end\n",
    "    return interactions_df, numbers_dic\n",
    "end\n",
    "\n",
    "function within(orthologs_otp, interactions_otp)\n",
    "    numberswithin=Dict{String,Int64}()\n",
    "    interactionswithin=DataFrame(gene1=String[], dmel_homo1=String[], string_id=String[], interaction_id=String[], gene2=String[], dmel_homo2=String[], interaction_coeficient=Float64[])\n",
    "    for i in 1:length(orthologs_otp[1])\n",
    "        counter = 0\n",
    "        for j in 1:length(interactions_otp[1])\n",
    "            if interactions_otp[j,1]==orthologs_otp[i,1] && interactions_otp[j,4] in orthologs_otp[3]\n",
    "                for k in 1:length(orthologs_otp[3])\n",
    "                    if orthologs_otp[k,3] == interactions_otp[j,4]\n",
    "                        if !isthere(interactionswithin, interactions_otp[j,3], interactions_otp[j,4])\n",
    "                            push!(interactionswithin, [interactions_otp[j,1], interactions_otp[j,2], interactions_otp[j,3], interactions_otp[j,4], orthologs_otp[k,1], orthologs_otp[k,2], interactions_otp[j,5]])\n",
    "                            counter += 1\n",
    "                        end\n",
    "                    end\n",
    "                end\n",
    "            elseif interactions_otp[j,4]==orthologs_otp[i,3] && interactions_otp[j,3] in orthologs_otp[3]\n",
    "                counter += 1\n",
    "            end\n",
    "        end\n",
    "        numberswithin[orthologs_otp[i,1]] = counter\n",
    "    end\n",
    "    return interactionswithin, numberswithin\n",
    "end\n",
    "\n",
    "function proportions1(orthologs_otp, within_int, all_int)\n",
    "    proportion_otp=Dict{String,Float64}()\n",
    "    for i in orthologs_otp[1]\n",
    "        counter = 0\n",
    "        counter = within_int[i]/all_int[i]\n",
    "        proportion_otp[i] = counter\n",
    "    end\n",
    "    return proportion_otp\n",
    "end\n",
    "\n",
    "function numbers_orth(orthologs_otp, interactions_otp)\n",
    "    numbers_orthologs=Dict{String,Int64}()\n",
    "    numberswithin_orthologs=Dict{String,Int64}()\n",
    "    proportions_orth=Dict{String,Float64}()\n",
    "    for i in 1:length(orthologs_otp[2])\n",
    "        counter1 = 0\n",
    "        for j in 1:length(interactions_otp[1])\n",
    "            if interactions_otp[j,1]==orthologs_otp[i,1]\n",
    "                counter1 += 1\n",
    "            end\n",
    "        end\n",
    "        if (haskey(numbers_orthologs, orthologs_otp[i,2]))\n",
    "            numbers_orthologs[orthologs_otp[i,2]] += counter1\n",
    "        else\n",
    "            numbers_orthologs[orthologs_otp[i,2]] = counter1\n",
    "        end\n",
    "    end\n",
    "    for i in 1:length(orthologs_otp[2])\n",
    "        counter2 = 0\n",
    "        for j in 1:length(interactions_otp[1])\n",
    "            if interactions_otp[j,1]==orthologs_otp[i,1] && interactions_otp[j,4] in orthologs_otp[3]\n",
    "                    counter2 += 1\n",
    "            end\n",
    "        end\n",
    "        if !(haskey(numberswithin_orthologs, orthologs_otp[i,2]))\n",
    "            numberswithin_orthologs[orthologs_otp[i,2]] = counter2\n",
    "        else\n",
    "            numberswithin_orthologs[orthologs_otp[i,2]] += counter2\n",
    "        end\n",
    "    end\n",
    "    for i in orthologs_otp[2]\n",
    "        proportions_orth[i] = numberswithin_orthologs[i]/numbers_orthologs[i]\n",
    "    end\n",
    "    return numbers_orthologs, numberswithin_orthologs, proportions_orth\n",
    "end"
   ]
  },
  {
   "cell_type": "code",
   "execution_count": 3,
   "metadata": {},
   "outputs": [
    {
     "data": {
      "text/html": [
       "<table class=\"data-frame\"><thead><tr><th></th><th>_gene</th><th>_dmel_homolog</th></tr></thead><tbody><tr><th>1</th><td>rnt-1</td><td>runt</td></tr><tr><th>2</th><td>hlh-14</td><td>scute</td></tr><tr><th>3</th><td>hlh-3</td><td>scute</td></tr><tr><th>4</th><td>eif-3.G</td><td>Sex-lethal</td></tr><tr><th>5</th><td>exc-7</td><td>Sex-lethal</td></tr><tr><th>6</th><td>eya-1</td><td>groucho</td></tr><tr><th>7</th><td>unc-37</td><td>groucho</td></tr><tr><th>8</th><td>wdr-48</td><td>groucho</td></tr><tr><th>9</th><td>wdr-5.3</td><td>groucho</td></tr><tr><th>10</th><td>hlh-2</td><td>daughterless</td></tr><tr><th>11</th><td>F52G2.3</td><td>deadpan</td></tr><tr><th>12</th><td>hlh-25</td><td>deadpan</td></tr><tr><th>13</th><td>hlh-27</td><td>deadpan</td></tr><tr><th>14</th><td>lin-22</td><td>deadpan</td></tr></tbody></table>"
      ],
      "text/plain": [
       "14×2 DataFrames.DataFrame\n",
       "│ Row │ _gene     │ _dmel_homolog  │\n",
       "├─────┼───────────┼────────────────┤\n",
       "│ 1   │ \"rnt-1\"   │ \"runt\"         │\n",
       "│ 2   │ \"hlh-14\"  │ \"scute\"        │\n",
       "│ 3   │ \"hlh-3\"   │ \"scute\"        │\n",
       "│ 4   │ \"eif-3.G\" │ \"Sex-lethal\"   │\n",
       "│ 5   │ \"exc-7\"   │ \"Sex-lethal\"   │\n",
       "│ 6   │ \"eya-1\"   │ \"groucho\"      │\n",
       "│ 7   │ \"unc-37\"  │ \"groucho\"      │\n",
       "│ 8   │ \"wdr-48\"  │ \"groucho\"      │\n",
       "│ 9   │ \"wdr-5.3\" │ \"groucho\"      │\n",
       "│ 10  │ \"hlh-2\"   │ \"daughterless\" │\n",
       "│ 11  │ \"F52G2.3\" │ \"deadpan\"      │\n",
       "│ 12  │ \"hlh-25\"  │ \"deadpan\"      │\n",
       "│ 13  │ \"hlh-27\"  │ \"deadpan\"      │\n",
       "│ 14  │ \"lin-22\"  │ \"deadpan\"      │"
      ]
     },
     "execution_count": 3,
     "metadata": {},
     "output_type": "execute_result"
    }
   ],
   "source": [
    "using DataFrames\n",
    "celegans = readtable(\"celegans_experimental.txt\", header=false, separator=' ') # open as data frame\n",
    "c_aliases = readtable(\"celegans_aliases.txt\", header=false, separator='\\t', nastrings=[\"\",\"NA\"])\n",
    "c_orthologs = readtable(\"celegans_orthologs.txt\", header=true, separator='\\t')"
   ]
  },
  {
   "cell_type": "code",
   "execution_count": 4,
   "metadata": {},
   "outputs": [
    {
     "data": {
      "text/html": [
       "<table class=\"data-frame\"><thead><tr><th></th><th>_gene</th><th>_dmel_homolog</th></tr></thead><tbody><tr><th>1</th><td>Runx2</td><td>runt</td></tr><tr><th>2</th><td>Runx1</td><td>runt</td></tr><tr><th>3</th><td>Runx3</td><td>runt</td></tr><tr><th>4</th><td>Ascl1</td><td>scute</td></tr><tr><th>5</th><td>Ascl2</td><td>scute</td></tr><tr><th>6</th><td>Ascl3</td><td>scute</td></tr><tr><th>7</th><td>Ascl4</td><td>scute</td></tr><tr><th>8</th><td>Ascl5</td><td>scute</td></tr><tr><th>9</th><td>Ferd3l</td><td>scute</td></tr><tr><th>10</th><td>Figla</td><td>scute</td></tr><tr><th>11</th><td>Hand1</td><td>scute</td></tr><tr><th>12</th><td>Hand2</td><td>scute</td></tr><tr><th>13</th><td>Lyl1</td><td>scute</td></tr><tr><th>14</th><td>Mesp1</td><td>scute</td></tr><tr><th>15</th><td>Mesp2</td><td>scute</td></tr><tr><th>16</th><td>Msc</td><td>scute</td></tr><tr><th>17</th><td>Msgn1</td><td>scute</td></tr><tr><th>18</th><td>Nhlh1</td><td>scute</td></tr><tr><th>19</th><td>Nhlh2</td><td>scute</td></tr><tr><th>20</th><td>Ptf1a</td><td>scute</td></tr><tr><th>21</th><td>Scx</td><td>scute</td></tr><tr><th>22</th><td>Tal1</td><td>scute</td></tr><tr><th>23</th><td>Tal2</td><td>scute</td></tr><tr><th>24</th><td>Tcf15</td><td>scute</td></tr><tr><th>25</th><td>Tcf21</td><td>scute</td></tr><tr><th>26</th><td>Tcf23</td><td>scute</td></tr><tr><th>27</th><td>Elavl1</td><td>Sex-lethal</td></tr><tr><th>28</th><td>Elavl2</td><td>Sex-lethal</td></tr><tr><th>29</th><td>Elavl3</td><td>Sex-lethal</td></tr><tr><th>30</th><td>Elavl4</td><td>Sex-lethal</td></tr><tr><th>&vellip;</th><td>&vellip;</td><td>&vellip;</td></tr></tbody></table>"
      ],
      "text/plain": [
       "58×2 DataFrames.DataFrame\n",
       "│ Row │ _gene    │ _dmel_homolog │\n",
       "├─────┼──────────┼───────────────┤\n",
       "│ 1   │ \"Runx2\"  │ \"runt\"        │\n",
       "│ 2   │ \"Runx1\"  │ \"runt\"        │\n",
       "│ 3   │ \"Runx3\"  │ \"runt\"        │\n",
       "│ 4   │ \"Ascl1\"  │ \"scute\"       │\n",
       "│ 5   │ \"Ascl2\"  │ \"scute\"       │\n",
       "│ 6   │ \"Ascl3\"  │ \"scute\"       │\n",
       "│ 7   │ \"Ascl4\"  │ \"scute\"       │\n",
       "│ 8   │ \"Ascl5\"  │ \"scute\"       │\n",
       "│ 9   │ \"Ferd3l\" │ \"scute\"       │\n",
       "│ 10  │ \"Figla\"  │ \"scute\"       │\n",
       "│ 11  │ \"Hand1\"  │ \"scute\"       │\n",
       "⋮\n",
       "│ 47  │ \"Hes2\"   │ \"deadpan\"     │\n",
       "│ 48  │ \"Hes3\"   │ \"deadpan\"     │\n",
       "│ 49  │ \"Hes5\"   │ \"deadpan\"     │\n",
       "│ 50  │ \"Hes6\"   │ \"deadpan\"     │\n",
       "│ 51  │ \"Hes7\"   │ \"deadpan\"     │\n",
       "│ 52  │ \"Hey1\"   │ \"deadpan\"     │\n",
       "│ 53  │ \"Hey2\"   │ \"deadpan\"     │\n",
       "│ 54  │ \"Heyl\"   │ \"deadpan\"     │\n",
       "│ 55  │ \"Id1\"    │ \"emc\"         │\n",
       "│ 56  │ \"Id2\"    │ \"emc\"         │\n",
       "│ 57  │ \"Id3\"    │ \"emc\"         │\n",
       "│ 58  │ \"Id4\"    │ \"emc\"         │"
      ]
     },
     "execution_count": 4,
     "metadata": {},
     "output_type": "execute_result"
    }
   ],
   "source": [
    "mouse = readtable(\"mouse_experimental.txt\", header=false, separator=' ') # open as data frame\n",
    "m_aliases = readtable(\"mouse_aliases.txt\", header=false, separator='\\t', nastrings=[\"\",\"NA\"])\n",
    "m_orthologs = readtable(\"mouse_orthologs.txt\", header=true, separator='\\t')"
   ]
  },
  {
   "cell_type": "code",
   "execution_count": 5,
   "metadata": {},
   "outputs": [
    {
     "data": {
      "text/html": [
       "<table class=\"data-frame\"><thead><tr><th></th><th>_gene</th><th>_dmel_homolog</th></tr></thead><tbody><tr><th>1</th><td>GBP2</td><td>Sex-lethal</td></tr><tr><th>2</th><td>PAB1</td><td>Sex-lethal</td></tr><tr><th>3</th><td>TUP1</td><td>groucho</td></tr><tr><th>4</th><td>PHO4</td><td>deadpan</td></tr></tbody></table>"
      ],
      "text/plain": [
       "4×2 DataFrames.DataFrame\n",
       "│ Row │ _gene  │ _dmel_homolog │\n",
       "├─────┼────────┼───────────────┤\n",
       "│ 1   │ \"GBP2\" │ \"Sex-lethal\"  │\n",
       "│ 2   │ \"PAB1\" │ \"Sex-lethal\"  │\n",
       "│ 3   │ \"TUP1\" │ \"groucho\"     │\n",
       "│ 4   │ \"PHO4\" │ \"deadpan\"     │"
      ]
     },
     "execution_count": 5,
     "metadata": {},
     "output_type": "execute_result"
    }
   ],
   "source": [
    "yeast = readtable(\"yeast_experimental.txt\", header=false, separator=' ') # open as data frame\n",
    "y_aliases = readtable(\"yeast_aliases.txt\", header=false, separator='\\t', nastrings=[\"\",\"NA\"])\n",
    "y_orthologs = readtable(\"yeast_orthologs.txt\", header=true, separator='\\t')"
   ]
  },
  {
   "cell_type": "code",
   "execution_count": 6,
   "metadata": {},
   "outputs": [
    {
     "data": {
      "text/html": [
       "<table class=\"data-frame\"><thead><tr><th></th><th>_gene_symbol</th><th>_dmel_name</th></tr></thead><tbody><tr><th>1</th><td>sisA</td><td>sisterless</td></tr><tr><th>2</th><td>run</td><td>runt</td></tr><tr><th>3</th><td>upd3</td><td>unpaired3</td></tr><tr><th>4</th><td>sc</td><td>scute</td></tr><tr><th>5</th><td>Sxl</td><td>Sex-lethal</td></tr><tr><th>6</th><td>gro</td><td>groucho</td></tr><tr><th>7</th><td>da</td><td>daughterless</td></tr><tr><th>8</th><td>her</td><td>hermaphrodite</td></tr><tr><th>9</th><td>dpn</td><td>deadpan</td></tr><tr><th>10</th><td>tra</td><td>transformer</td></tr><tr><th>11</th><td>emc</td><td>emc</td></tr></tbody></table>"
      ],
      "text/plain": [
       "11×2 DataFrames.DataFrame\n",
       "│ Row │ _gene_symbol │ _dmel_name      │\n",
       "├─────┼──────────────┼─────────────────┤\n",
       "│ 1   │ \"sisA\"       │ \"sisterless\"    │\n",
       "│ 2   │ \"run\"        │ \"runt\"          │\n",
       "│ 3   │ \"upd3\"       │ \"unpaired3\"     │\n",
       "│ 4   │ \"sc\"         │ \"scute\"         │\n",
       "│ 5   │ \"Sxl\"        │ \"Sex-lethal\"    │\n",
       "│ 6   │ \"gro\"        │ \"groucho\"       │\n",
       "│ 7   │ \"da\"         │ \"daughterless\"  │\n",
       "│ 8   │ \"her\"        │ \"hermaphrodite\" │\n",
       "│ 9   │ \"dpn\"        │ \"deadpan\"       │\n",
       "│ 10  │ \"tra\"        │ \"transformer\"   │\n",
       "│ 11  │ \"emc\"        │ \"emc\"           │"
      ]
     },
     "execution_count": 6,
     "metadata": {},
     "output_type": "execute_result"
    }
   ],
   "source": [
    "dmel = readtable(\"dmel_experimental.txt\", header=false, separator=' ') # open as data frame\n",
    "d_aliases = readtable(\"dmel_aliases.txt\", header=false, separator='\\t', nastrings=[\"\",\"NA\"])\n",
    "d_orthologs = readtable(\"dmel_orthologs.txt\", header=true, separator='\\t')"
   ]
  },
  {
   "cell_type": "code",
   "execution_count": 7,
   "metadata": {},
   "outputs": [
    {
     "data": {
      "text/html": [
       "<table class=\"data-frame\"><thead><tr><th></th><th>_gene</th><th>_dmel_homolog</th></tr></thead><tbody><tr><th>1</th><td>RUNX1</td><td>runt</td></tr><tr><th>2</th><td>RUNX2</td><td>runt</td></tr><tr><th>3</th><td>RUNX3</td><td>runt</td></tr><tr><th>4</th><td>ASCL1</td><td>scute</td></tr><tr><th>5</th><td>ASCL2</td><td>scute</td></tr><tr><th>6</th><td>ASCL3</td><td>scute</td></tr><tr><th>7</th><td>ASCL4</td><td>scute</td></tr><tr><th>8</th><td>ASCL5</td><td>scute</td></tr><tr><th>9</th><td>FIGLA</td><td>scute</td></tr><tr><th>10</th><td>HAND1</td><td>scute</td></tr><tr><th>11</th><td>HAND2</td><td>scute</td></tr><tr><th>12</th><td>LYL1</td><td>scute</td></tr><tr><th>13</th><td>MESP1</td><td>scute</td></tr><tr><th>14</th><td>MESP2</td><td>scute</td></tr><tr><th>15</th><td>MSC</td><td>scute</td></tr><tr><th>16</th><td>MSGN1</td><td>scute</td></tr><tr><th>17</th><td>NHLH1</td><td>scute</td></tr><tr><th>18</th><td>NHLH2</td><td>scute</td></tr><tr><th>19</th><td>PTF1A</td><td>scute</td></tr><tr><th>20</th><td>SCX</td><td>scute</td></tr><tr><th>21</th><td>TAL1</td><td>scute</td></tr><tr><th>22</th><td>TAL2</td><td>scute</td></tr><tr><th>23</th><td>TCF15</td><td>scute</td></tr><tr><th>24</th><td>TCF21</td><td>scute</td></tr><tr><th>25</th><td>TCF23</td><td>scute</td></tr><tr><th>26</th><td>TCF24</td><td>scute</td></tr><tr><th>27</th><td>ELAVL1</td><td>Sex-lethal</td></tr><tr><th>28</th><td>ELAVL2</td><td>Sex-lethal</td></tr><tr><th>29</th><td>ELAVL3</td><td>Sex-lethal</td></tr><tr><th>30</th><td>ELAVL4</td><td>Sex-lethal</td></tr><tr><th>&vellip;</th><td>&vellip;</td><td>&vellip;</td></tr></tbody></table>"
      ],
      "text/plain": [
       "58×2 DataFrames.DataFrame\n",
       "│ Row │ _gene   │ _dmel_homolog │\n",
       "├─────┼─────────┼───────────────┤\n",
       "│ 1   │ \"RUNX1\" │ \"runt\"        │\n",
       "│ 2   │ \"RUNX2\" │ \"runt\"        │\n",
       "│ 3   │ \"RUNX3\" │ \"runt\"        │\n",
       "│ 4   │ \"ASCL1\" │ \"scute\"       │\n",
       "│ 5   │ \"ASCL2\" │ \"scute\"       │\n",
       "│ 6   │ \"ASCL3\" │ \"scute\"       │\n",
       "│ 7   │ \"ASCL4\" │ \"scute\"       │\n",
       "│ 8   │ \"ASCL5\" │ \"scute\"       │\n",
       "│ 9   │ \"FIGLA\" │ \"scute\"       │\n",
       "│ 10  │ \"HAND1\" │ \"scute\"       │\n",
       "│ 11  │ \"HAND2\" │ \"scute\"       │\n",
       "⋮\n",
       "│ 47  │ \"HES3\"  │ \"deadpan\"     │\n",
       "│ 48  │ \"HES4\"  │ \"deadpan\"     │\n",
       "│ 49  │ \"HES5\"  │ \"deadpan\"     │\n",
       "│ 50  │ \"HES6\"  │ \"deadpan\"     │\n",
       "│ 51  │ \"HES7\"  │ \"deadpan\"     │\n",
       "│ 52  │ \"HEY1\"  │ \"deadpan\"     │\n",
       "│ 53  │ \"HEY2\"  │ \"deadpan\"     │\n",
       "│ 54  │ \"HEYL\"  │ \"deadpan\"     │\n",
       "│ 55  │ \"ID1\"   │ \"emc\"         │\n",
       "│ 56  │ \"ID2\"   │ \"emc\"         │\n",
       "│ 57  │ \"ID3\"   │ \"emc\"         │\n",
       "│ 58  │ \"ID4\"   │ \"emc\"         │"
      ]
     },
     "execution_count": 7,
     "metadata": {},
     "output_type": "execute_result"
    }
   ],
   "source": [
    "human = readtable(\"human_experimental.txt\", header=false, separator=' ') # open as data frame\n",
    "h_aliases = readtable(\"human_aliases.txt\", header=false, separator='\\t', nastrings=[\"\",\"NA\"])\n",
    "h_orthologs = readtable(\"human_orthologs.txt\", header=true, separator='\\t')"
   ]
  },
  {
   "cell_type": "code",
   "execution_count": 8,
   "metadata": {},
   "outputs": [
    {
     "data": {
      "text/plain": [
       "(Dict(\"Sex-lethal\"=>437,\"groucho\"=>99,\"deadpan\"=>66), Dict(\"Sex-lethal\"=>1,\"groucho\"=>0,\"deadpan\"=>0), Dict(\"Sex-lethal\"=>0.00228833,\"groucho\"=>0.0,\"deadpan\"=>0.0))"
      ]
     },
     "execution_count": 8,
     "metadata": {},
     "output_type": "execute_result"
    }
   ],
   "source": [
    "yeast_orthologs = orthologs(y_orthologs, y_aliases)\n",
    "yeast_interactions, yeast_numbers = interactions(yeast_orthologs, yeast)\n",
    "yeast_intwithin, yeast_numbwithin = within(yeast_orthologs, yeast_interactions)\n",
    "yeast_proportion = proportions1(yeast_orthologs, yeast_numbwithin, yeast_numbers)\n",
    "yeast_numbers_orth, yeast_numbwithin_orth, yeast_proportion_orth = numbers_orth(yeast_orthologs, yeast_interactions)"
   ]
  },
  {
   "cell_type": "code",
   "execution_count": 11,
   "metadata": {},
   "outputs": [
    {
     "data": {
      "text/plain": [
       "602"
      ]
     },
     "execution_count": 11,
     "metadata": {},
     "output_type": "execute_result"
    }
   ],
   "source": [
    "length(yeast_interactions[1])"
   ]
  },
  {
   "cell_type": "code",
   "execution_count": 8,
   "metadata": {},
   "outputs": [
    {
     "data": {
      "text/plain": [
       "(Dict(\"Sex-lethal\"=>16,\"scute\"=>19,\"groucho\"=>154,\"runt\"=>4,\"daughterless\"=>15,\"deadpan\"=>140), Dict(\"Sex-lethal\"=>0,\"scute\"=>2,\"groucho\"=>2,\"runt\"=>0,\"daughterless\"=>0,\"deadpan\"=>1), Dict(\"Sex-lethal\"=>0.0,\"scute\"=>0.105263,\"groucho\"=>0.012987,\"runt\"=>0.0,\"daughterless\"=>0.0,\"deadpan\"=>0.00714286))"
      ]
     },
     "execution_count": 8,
     "metadata": {},
     "output_type": "execute_result"
    }
   ],
   "source": [
    "celegans_orthologs = orthologs(c_orthologs, c_aliases)\n",
    "celegans_interactions, celegans_numbers = interactions(celegans_orthologs, celegans)\n",
    "celegans_intwithin, celegans_numbwithin = within(celegans_orthologs, celegans_interactions)\n",
    "celegans_proportion = proportions1(celegans_orthologs, celegans_numbwithin, celegans_numbers)\n",
    "celegans_numbers_orth, celegans_numbwithin_orth, celegans_proportion_orth = numbers_orth(celegans_orthologs, celegans_interactions)"
   ]
  },
  {
   "cell_type": "code",
   "execution_count": 9,
   "metadata": {},
   "outputs": [
    {
     "data": {
      "text/plain": [
       "(Dict(\"Sex-lethal\"=>19,\"hermaphrodite\"=>1,\"scute\"=>114,\"sisterless\"=>7,\"unpaired3\"=>1,\"runt\"=>11,\"daughterless\"=>25,\"deadpan\"=>6,\"groucho\"=>38,\"transformer\"=>5…), Dict(\"Sex-lethal\"=>0,\"hermaphrodite\"=>0,\"scute\"=>8,\"sisterless\"=>3,\"unpaired3\"=>0,\"runt\"=>1,\"daughterless\"=>2,\"deadpan\"=>0,\"groucho\"=>1,\"transformer\"=>0…), Dict(\"Sex-lethal\"=>0.0,\"hermaphrodite\"=>0.0,\"scute\"=>0.0701754,\"sisterless\"=>0.428571,\"unpaired3\"=>0.0,\"runt\"=>0.0909091,\"daughterless\"=>0.08,\"deadpan\"=>0.0,\"groucho\"=>0.0263158,\"transformer\"=>0.0…))"
      ]
     },
     "execution_count": 9,
     "metadata": {},
     "output_type": "execute_result"
    }
   ],
   "source": [
    "dmel_orthologs = orthologs(d_orthologs, d_aliases)\n",
    "dmel_interactions, dmel_numbers = interactions(dmel_orthologs, dmel)\n",
    "dmel_intwithin, dmel_numbwithin = within(dmel_orthologs, dmel_interactions)\n",
    "dmel_proportion = proportions1(dmel_orthologs, dmel_numbwithin, dmel_numbers)\n",
    "dmel_numbers_orth, dmel_numbwithin_orth, dmel_proportion_orth = numbers_orth(dmel_orthologs, dmel_interactions)"
   ]
  },
  {
   "cell_type": "code",
   "execution_count": 10,
   "metadata": {},
   "outputs": [
    {
     "data": {
      "text/plain": [
       "(Dict(\"Sex-lethal\"=>10,\"scute\"=>77,\"hermaphrodite\"=>12,\"groucho\"=>98,\"runt\"=>46,\"daughterless\"=>447,\"deadpan\"=>31,\"emc\"=>37), Dict(\"Sex-lethal\"=>1,\"scute\"=>24,\"hermaphrodite\"=>0,\"groucho\"=>4,\"runt\"=>1,\"daughterless\"=>33,\"deadpan\"=>3,\"emc\"=>1), Dict(\"Sex-lethal\"=>0.1,\"scute\"=>0.311688,\"hermaphrodite\"=>0.0,\"groucho\"=>0.0408163,\"runt\"=>0.0217391,\"daughterless\"=>0.0738255,\"deadpan\"=>0.0967742,\"emc\"=>0.027027))"
      ]
     },
     "execution_count": 10,
     "metadata": {},
     "output_type": "execute_result"
    }
   ],
   "source": [
    "mouse_orthologs = orthologs(m_orthologs, m_aliases)\n",
    "mouse_interactions, mouse_numbers = interactions(mouse_orthologs, mouse)\n",
    "mouse_intwithin, mouse_numbwithin = within(mouse_orthologs, mouse_interactions)\n",
    "mouse_proportion = proportions1(mouse_orthologs, mouse_numbwithin, mouse_numbers)\n",
    "mouse_numbers_orth, mouse_numbwithin_orth, mouse_proportion_orth = numbers_orth(mouse_orthologs, mouse_interactions)"
   ]
  },
  {
   "cell_type": "code",
   "execution_count": 11,
   "metadata": {},
   "outputs": [
    {
     "data": {
      "text/plain": [
       "(Dict(\"Sex-lethal\"=>1081,\"scute\"=>176,\"hermaphrodite\"=>40,\"groucho\"=>190,\"runt\"=>178,\"daughterless\"=>473,\"deadpan\"=>213,\"emc\"=>105), Dict(\"Sex-lethal\"=>9,\"scute\"=>50,\"hermaphrodite\"=>0,\"groucho\"=>9,\"runt\"=>11,\"daughterless\"=>27,\"deadpan\"=>18,\"emc\"=>1), Dict(\"Sex-lethal\"=>0.00832562,\"scute\"=>0.284091,\"hermaphrodite\"=>0.0,\"groucho\"=>0.0473684,\"runt\"=>0.0617978,\"daughterless\"=>0.0570825,\"deadpan\"=>0.084507,\"emc\"=>0.00952381))"
      ]
     },
     "execution_count": 11,
     "metadata": {},
     "output_type": "execute_result"
    }
   ],
   "source": [
    "human_orthologs = orthologs(h_orthologs, h_aliases)\n",
    "human_interactions, human_numbers = interactions(human_orthologs, human)\n",
    "human_intwithin, human_numbwithin = within(human_orthologs, human_interactions)\n",
    "human_proportion = proportions1(human_orthologs, human_numbwithin, human_numbers)\n",
    "human_numbers_orth, human_numbwithin_orth, human_proportion_orth = numbers_orth(human_orthologs, human_interactions)"
   ]
  },
  {
   "cell_type": "code",
   "execution_count": 12,
   "metadata": {
    "collapsed": true
   },
   "outputs": [],
   "source": [
    "writetable(\"yeast_allinteractions1.txt\", yeast_interactions, separator='\\t', header=true, nastring=\"NA\")\n",
    "writetable(\"yeast_queryinteractions1.txt\", yeast_intwithin, separator='\\t', header=true, nastring=\"NA\")\n",
    "\n",
    "writetable(\"celegans_allinteractions1.txt\", celegans_interactions, separator='\\t', header=true, nastring=\"NA\")\n",
    "writetable(\"celegans_queryinteractions1.txt\", celegans_intwithin, separator='\\t', header=true, nastring=\"NA\")\n",
    "\n",
    "writetable(\"dmel_allinteractions1.txt\", dmel_interactions, separator='\\t', header=true, nastring=\"NA\")\n",
    "writetable(\"dmel_queryinteractions1.txt\", dmel_intwithin, separator='\\t', header=true, nastring=\"NA\")\n",
    "\n",
    "writetable(\"mouse_allinteractions1.txt\", mouse_interactions, separator='\\t', header=true, nastring=\"NA\")\n",
    "writetable(\"mouse_queryinteractions1.txt\", mouse_intwithin, separator='\\t', header=true, nastring=\"NA\")\n",
    "\n",
    "writetable(\"human_allinteractions1.txt\", human_interactions, separator='\\t', header=true, nastring=\"NA\")\n",
    "writetable(\"human_queryinteractions1.txt\", human_intwithin, separator='\\t', header=true, nastring=\"NA\")"
   ]
  },
  {
   "cell_type": "code",
   "execution_count": 13,
   "metadata": {
    "collapsed": true
   },
   "outputs": [],
   "source": [
    "yeast_filenumbers1=DataFrame(gene1=String[], dmel_homo=String[], total_interactions=Int64[], withinquery_interactions=Int64[], percentage_withinquery=Float64[])\n",
    "for i in 1:length(yeast_orthologs)\n",
    "    push!(yeast_filenumbers1, [yeast_orthologs[i,1],yeast_orthologs[i,2],yeast_numbers[yeast_orthologs[i,1]],yeast_numbwithin[yeast_orthologs[i,1]],yeast_proportion[yeast_orthologs[i,1]]])\n",
    "end\n",
    "\n",
    "writetable(\"yeast_numbers1.txt\", yeast_filenumbers1, separator='\\t', header=true, nastring=\"NA\")"
   ]
  },
  {
   "cell_type": "code",
   "execution_count": 14,
   "metadata": {
    "collapsed": true,
    "scrolled": true
   },
   "outputs": [],
   "source": [
    "celegans_filenumbers1=DataFrame(gene1=String[], dmel_homo=String[], total_interactions=Int64[], withinquery_interactions=Int64[], percentage_withinquery=Float64[])\n",
    "for i in 1:length(celegans_orthologs)\n",
    "    push!(celegans_filenumbers1, [celegans_orthologs[i,1],celegans_orthologs[i,2],celegans_numbers[celegans_orthologs[i,1]],celegans_numbwithin[celegans_orthologs[i,1]],celegans_proportion[celegans_orthologs[i,1]]])\n",
    "end\n",
    "\n",
    "writetable(\"celegans_numbers1.txt\", celegans_filenumbers1, separator='\\t', header=true, nastring=\"NA\")"
   ]
  },
  {
   "cell_type": "code",
   "execution_count": 15,
   "metadata": {
    "collapsed": true
   },
   "outputs": [],
   "source": [
    "dmel_filenumbers1=DataFrame(gene1=String[], dmel_homo=String[], total_interactions=Int64[], withinquery_interactions=Int64[], percentage_withinquery=Float64[])\n",
    "for i in 1:length(dmel_orthologs)\n",
    "    push!(dmel_filenumbers1, [dmel_orthologs[i,1],dmel_orthologs[i,2],dmel_numbers[dmel_orthologs[i,1]],dmel_numbwithin[dmel_orthologs[i,1]],dmel_proportion[dmel_orthologs[i,1]]])\n",
    "end\n",
    "\n",
    "writetable(\"dmel_numbers1.txt\", dmel_filenumbers1, separator='\\t', header=true, nastring=\"NA\")"
   ]
  },
  {
   "cell_type": "code",
   "execution_count": 16,
   "metadata": {
    "collapsed": true
   },
   "outputs": [],
   "source": [
    "mouse_filenumbers1=DataFrame(gene1=String[], dmel_homo=String[], total_interactions=Int64[], withinquery_interactions=Int64[], percentage_withinquery=Float64[])\n",
    "for i in 1:length(mouse_orthologs)\n",
    "    push!(mouse_filenumbers1, [mouse_orthologs[i,1],mouse_orthologs[i,2],mouse_numbers[mouse_orthologs[i,1]],mouse_numbwithin[mouse_orthologs[i,1]],mouse_proportion[mouse_orthologs[i,1]]])\n",
    "end\n",
    "\n",
    "writetable(\"mouse_numbers1.txt\", mouse_filenumbers1, separator='\\t', header=true, nastring=\"NA\")"
   ]
  },
  {
   "cell_type": "code",
   "execution_count": 17,
   "metadata": {
    "collapsed": true
   },
   "outputs": [],
   "source": [
    "human_filenumbers1=DataFrame(gene1=String[], dmel_homo=String[], total_interactions=Int64[], withinquery_interactions=Int64[], percentage_withinquery=Float64[])\n",
    "for i in 1:length(human_orthologs)\n",
    "    push!(human_filenumbers1, [human_orthologs[i,1],human_orthologs[i,2],human_numbers[human_orthologs[i,1]],human_numbwithin[human_orthologs[i,1]],human_proportion[human_orthologs[i,1]]])\n",
    "end\n",
    "\n",
    "writetable(\"human_numbers1.txt\", human_filenumbers1, separator='\\t', header=true, nastring=\"NA\")"
   ]
  },
  {
   "cell_type": "code",
   "execution_count": 18,
   "metadata": {
    "collapsed": true
   },
   "outputs": [],
   "source": [
    "all_filenumbers=DataFrame(dmel_homo=String[], dmel_total_interactions=Int64[], dmel_withinquery_interactions=Int64[], dmel_percentage_withinquery=Float64[], yeast_total_interactions=Int64[], yeast_withinquery_interactions=Int64[], yeast_percentage_withinquery=Float64[], celegans_total_interactions=Int64[], celegans_withinquery_interactions=Int64[], celegans_percentage_withinquery=Float64[], mouse_total_interactions=Int64[], mouse_withinquery_interactions=Int64[], mouse_percentage_withinquery=Float64[], human_total_interactions=Int64[], human_withinquery_interactions=Int64[], human_percentage_withinquery=Float64[])\n",
    "\n",
    "for i in 1:length(dmel_orthologs[2])\n",
    "    if !haskey(yeast_numbers_orth, dmel_orthologs[i,2])\n",
    "        yeast_numbers_orth[dmel_orthologs[i,2]] = 0\n",
    "        yeast_numbwithin_orth[dmel_orthologs[i,2]] = 0\n",
    "        yeast_proportion_orth[dmel_orthologs[i,2]] = 0\n",
    "    end\n",
    "    if !haskey(celegans_numbers_orth, dmel_orthologs[i,2])\n",
    "        celegans_numbers_orth[dmel_orthologs[i,2]] = 0\n",
    "        celegans_numbwithin_orth[dmel_orthologs[i,2]] = 0\n",
    "        celegans_proportion_orth[dmel_orthologs[i,2]] = 0\n",
    "    end\n",
    "    if !haskey(mouse_numbers_orth, dmel_orthologs[i,2])\n",
    "        mouse_numbers_orth[dmel_orthologs[i,2]] = 0\n",
    "        mouse_numbwithin_orth[dmel_orthologs[i,2]] = 0\n",
    "        mouse_proportion_orth[dmel_orthologs[i,2]] = 0\n",
    "    end\n",
    "    if !haskey(human_numbers_orth, dmel_orthologs[i,2])\n",
    "        human_numbers_orth[dmel_orthologs[i,2]] = 0\n",
    "        human_numbwithin_orth[dmel_orthologs[i,2]] = 0\n",
    "        human_proportion_orth[dmel_orthologs[i,2]] = 0\n",
    "    end\n",
    "    push!(all_filenumbers, [dmel_orthologs[i,2], dmel_numbers_orth[dmel_orthologs[i,2]], dmel_numbwithin_orth[dmel_orthologs[i,2]], dmel_proportion_orth[dmel_orthologs[i,2]], yeast_numbers_orth[dmel_orthologs[i,2]], yeast_numbwithin_orth[dmel_orthologs[i,2]], yeast_proportion_orth[dmel_orthologs[i,2]], celegans_numbers_orth[dmel_orthologs[i,2]], celegans_numbwithin_orth[dmel_orthologs[i,2]], celegans_proportion_orth[dmel_orthologs[i,2]], mouse_numbers_orth[dmel_orthologs[i,2]], mouse_numbwithin_orth[dmel_orthologs[i,2]], mouse_proportion_orth[dmel_orthologs[i,2]], human_numbers_orth[dmel_orthologs[i,2]], human_numbwithin_orth[dmel_orthologs[i,2]], human_proportion_orth[dmel_orthologs[i,2]]])\n",
    "end\n",
    "\n",
    "writetable(\"allorthologs_numbers1.txt\", all_filenumbers, separator='\\t', header=true, nastring=\"NA\")"
   ]
  },
  {
   "cell_type": "code",
   "execution_count": null,
   "metadata": {
    "collapsed": true
   },
   "outputs": [],
   "source": []
  }
 ],
 "metadata": {
  "kernelspec": {
   "display_name": "Julia 0.6.0",
   "language": "julia",
   "name": "julia-0.6"
  },
  "language_info": {
   "file_extension": ".jl",
   "mimetype": "application/julia",
   "name": "julia",
   "version": "0.6.0"
  }
 },
 "nbformat": 4,
 "nbformat_minor": 2
}
